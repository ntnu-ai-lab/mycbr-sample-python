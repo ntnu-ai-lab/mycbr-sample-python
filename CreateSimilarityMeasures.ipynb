{
 "cells": [
  {
   "cell_type": "markdown",
   "id": "b76cede3-c225-4f08-a4c8-a5e386a2f16f",
   "metadata": {},
   "source": [
    "# CreateSimilarityMeasures\n",
    " - Use a CSV file and get information to create similarity measures"
   ]
  },
  {
   "cell_type": "code",
   "execution_count": 19,
   "id": "1878a105-7da5-472f-b18a-2ad3b1e812bf",
   "metadata": {},
   "outputs": [],
   "source": [
    "# Render our plots inline\n",
    "%matplotlib inline\n",
    "\n",
    "from requests import get\n",
    "import requests\n",
    "import pandas as pd\n",
    "import numpy as np\n",
    "import seaborn as sns\n",
    "import matplotlib.pyplot as plt\n",
    "import datetime\n",
    "\n",
    "from pandas.io.json import json_normalize\n"
   ]
  },
  {
   "cell_type": "code",
   "execution_count": 20,
   "id": "dbe74e67-1cd1-45d4-8b70-44b151d551cb",
   "metadata": {},
   "outputs": [
    {
     "data": {
      "text/html": [
       "<div>\n",
       "<style scoped>\n",
       "    .dataframe tbody tr th:only-of-type {\n",
       "        vertical-align: middle;\n",
       "    }\n",
       "\n",
       "    .dataframe tbody tr th {\n",
       "        vertical-align: top;\n",
       "    }\n",
       "\n",
       "    .dataframe thead th {\n",
       "        text-align: right;\n",
       "    }\n",
       "</style>\n",
       "<table border=\"1\" class=\"dataframe\">\n",
       "  <thead>\n",
       "    <tr style=\"text-align: right;\">\n",
       "      <th></th>\n",
       "      <th>caseID</th>\n",
       "      <th>Body</th>\n",
       "      <th>CCM</th>\n",
       "      <th>Car Code</th>\n",
       "      <th>Color</th>\n",
       "      <th>Doors</th>\n",
       "      <th>Gas</th>\n",
       "      <th>Manufacturer</th>\n",
       "      <th>Miles</th>\n",
       "      <th>Model</th>\n",
       "      <th>Power</th>\n",
       "      <th>Price</th>\n",
       "      <th>Speed</th>\n",
       "      <th>Year</th>\n",
       "      <th>ZIP</th>\n",
       "    </tr>\n",
       "  </thead>\n",
       "  <tbody>\n",
       "    <tr>\n",
       "      <th>0</th>\n",
       "      <td>441_audi</td>\n",
       "      <td>sedan</td>\n",
       "      <td>2800</td>\n",
       "      <td>441</td>\n",
       "      <td>violet</td>\n",
       "      <td>4</td>\n",
       "      <td>gasoline</td>\n",
       "      <td>audi</td>\n",
       "      <td>29897</td>\n",
       "      <td>a6_2.8</td>\n",
       "      <td>193</td>\n",
       "      <td>49899</td>\n",
       "      <td>213</td>\n",
       "      <td>1995</td>\n",
       "      <td>8</td>\n",
       "    </tr>\n",
       "    <tr>\n",
       "      <th>1</th>\n",
       "      <td>108_audi</td>\n",
       "      <td>station_wagon</td>\n",
       "      <td>1600</td>\n",
       "      <td>108</td>\n",
       "      <td>turquoise</td>\n",
       "      <td>5</td>\n",
       "      <td>gasoline</td>\n",
       "      <td>audi</td>\n",
       "      <td>43858</td>\n",
       "      <td>a4_1.6</td>\n",
       "      <td>101</td>\n",
       "      <td>24699</td>\n",
       "      <td>183</td>\n",
       "      <td>1994</td>\n",
       "      <td>8</td>\n",
       "    </tr>\n",
       "    <tr>\n",
       "      <th>2</th>\n",
       "      <td>931_mercedes-benz</td>\n",
       "      <td>station_wagon</td>\n",
       "      <td>3200</td>\n",
       "      <td>931</td>\n",
       "      <td>gray</td>\n",
       "      <td>5</td>\n",
       "      <td>gasoline</td>\n",
       "      <td>mercedes-benz</td>\n",
       "      <td>32855</td>\n",
       "      <td>e_320</td>\n",
       "      <td>224</td>\n",
       "      <td>60799</td>\n",
       "      <td>241</td>\n",
       "      <td>1996</td>\n",
       "      <td>4</td>\n",
       "    </tr>\n",
       "    <tr>\n",
       "      <th>3</th>\n",
       "      <td>100_mercedes-benz</td>\n",
       "      <td>sedan</td>\n",
       "      <td>3000</td>\n",
       "      <td>100</td>\n",
       "      <td>yellow</td>\n",
       "      <td>4</td>\n",
       "      <td>diesel</td>\n",
       "      <td>mercedes-benz</td>\n",
       "      <td>18146</td>\n",
       "      <td>e_300_diesel</td>\n",
       "      <td>176</td>\n",
       "      <td>58499</td>\n",
       "      <td>224</td>\n",
       "      <td>1996</td>\n",
       "      <td>3</td>\n",
       "    </tr>\n",
       "    <tr>\n",
       "      <th>4</th>\n",
       "      <td>223_bmw</td>\n",
       "      <td>sedan</td>\n",
       "      <td>3500</td>\n",
       "      <td>223</td>\n",
       "      <td>dark_green</td>\n",
       "      <td>4</td>\n",
       "      <td>gasoline</td>\n",
       "      <td>bmw</td>\n",
       "      <td>24711</td>\n",
       "      <td>m3</td>\n",
       "      <td>320</td>\n",
       "      <td>73299</td>\n",
       "      <td>241</td>\n",
       "      <td>1997</td>\n",
       "      <td>2</td>\n",
       "    </tr>\n",
       "    <tr>\n",
       "      <th>...</th>\n",
       "      <td>...</td>\n",
       "      <td>...</td>\n",
       "      <td>...</td>\n",
       "      <td>...</td>\n",
       "      <td>...</td>\n",
       "      <td>...</td>\n",
       "      <td>...</td>\n",
       "      <td>...</td>\n",
       "      <td>...</td>\n",
       "      <td>...</td>\n",
       "      <td>...</td>\n",
       "      <td>...</td>\n",
       "      <td>...</td>\n",
       "      <td>...</td>\n",
       "      <td>...</td>\n",
       "    </tr>\n",
       "    <tr>\n",
       "      <th>951</th>\n",
       "      <td>700_bmw</td>\n",
       "      <td>station_wagon</td>\n",
       "      <td>2000</td>\n",
       "      <td>700</td>\n",
       "      <td>orange</td>\n",
       "      <td>5</td>\n",
       "      <td>gasoline</td>\n",
       "      <td>bmw</td>\n",
       "      <td>186068</td>\n",
       "      <td>520i</td>\n",
       "      <td>150</td>\n",
       "      <td>12099</td>\n",
       "      <td>183</td>\n",
       "      <td>1994</td>\n",
       "      <td>1</td>\n",
       "    </tr>\n",
       "    <tr>\n",
       "      <th>952</th>\n",
       "      <td>348_vw</td>\n",
       "      <td>fastback</td>\n",
       "      <td>1800</td>\n",
       "      <td>348</td>\n",
       "      <td>gray</td>\n",
       "      <td>2</td>\n",
       "      <td>gasoline</td>\n",
       "      <td>vw</td>\n",
       "      <td>70014</td>\n",
       "      <td>golf</td>\n",
       "      <td>100</td>\n",
       "      <td>16199</td>\n",
       "      <td>183</td>\n",
       "      <td>1995</td>\n",
       "      <td>3</td>\n",
       "    </tr>\n",
       "    <tr>\n",
       "      <th>953</th>\n",
       "      <td>331_mercedes-benz</td>\n",
       "      <td>sedan</td>\n",
       "      <td>2800</td>\n",
       "      <td>331</td>\n",
       "      <td>yellow</td>\n",
       "      <td>4</td>\n",
       "      <td>gasoline</td>\n",
       "      <td>mercedes-benz</td>\n",
       "      <td>21429</td>\n",
       "      <td>c_280</td>\n",
       "      <td>197</td>\n",
       "      <td>50199</td>\n",
       "      <td>213</td>\n",
       "      <td>1997</td>\n",
       "      <td>6</td>\n",
       "    </tr>\n",
       "    <tr>\n",
       "      <th>954</th>\n",
       "      <td>722_vw</td>\n",
       "      <td>fastback</td>\n",
       "      <td>1800</td>\n",
       "      <td>722</td>\n",
       "      <td>dark_red</td>\n",
       "      <td>2</td>\n",
       "      <td>gasoline</td>\n",
       "      <td>vw</td>\n",
       "      <td>25412</td>\n",
       "      <td>golf</td>\n",
       "      <td>100</td>\n",
       "      <td>17899</td>\n",
       "      <td>183</td>\n",
       "      <td>1994</td>\n",
       "      <td>2</td>\n",
       "    </tr>\n",
       "    <tr>\n",
       "      <th>955</th>\n",
       "      <td>116_audi</td>\n",
       "      <td>station_wagon</td>\n",
       "      <td>1900</td>\n",
       "      <td>116</td>\n",
       "      <td>silver</td>\n",
       "      <td>5</td>\n",
       "      <td>diesel</td>\n",
       "      <td>audi</td>\n",
       "      <td>6962</td>\n",
       "      <td>a4_1.9_tdi</td>\n",
       "      <td>90</td>\n",
       "      <td>41499</td>\n",
       "      <td>173</td>\n",
       "      <td>1997</td>\n",
       "      <td>4</td>\n",
       "    </tr>\n",
       "  </tbody>\n",
       "</table>\n",
       "<p>956 rows × 15 columns</p>\n",
       "</div>"
      ],
      "text/plain": [
       "                caseID           Body   CCM  Car Code       Color  Doors  \\\n",
       "0             441_audi          sedan  2800       441      violet      4   \n",
       "1             108_audi  station_wagon  1600       108   turquoise      5   \n",
       "2    931_mercedes-benz  station_wagon  3200       931        gray      5   \n",
       "3    100_mercedes-benz          sedan  3000       100      yellow      4   \n",
       "4              223_bmw          sedan  3500       223  dark_green      4   \n",
       "..                 ...            ...   ...       ...         ...    ...   \n",
       "951            700_bmw  station_wagon  2000       700      orange      5   \n",
       "952             348_vw       fastback  1800       348        gray      2   \n",
       "953  331_mercedes-benz          sedan  2800       331      yellow      4   \n",
       "954             722_vw       fastback  1800       722    dark_red      2   \n",
       "955           116_audi  station_wagon  1900       116      silver      5   \n",
       "\n",
       "          Gas   Manufacturer   Miles         Model  Power  Price  Speed  Year  \\\n",
       "0    gasoline           audi   29897        a6_2.8    193  49899    213  1995   \n",
       "1    gasoline           audi   43858        a4_1.6    101  24699    183  1994   \n",
       "2    gasoline  mercedes-benz   32855         e_320    224  60799    241  1996   \n",
       "3      diesel  mercedes-benz   18146  e_300_diesel    176  58499    224  1996   \n",
       "4    gasoline            bmw   24711            m3    320  73299    241  1997   \n",
       "..        ...            ...     ...           ...    ...    ...    ...   ...   \n",
       "951  gasoline            bmw  186068          520i    150  12099    183  1994   \n",
       "952  gasoline             vw   70014          golf    100  16199    183  1995   \n",
       "953  gasoline  mercedes-benz   21429         c_280    197  50199    213  1997   \n",
       "954  gasoline             vw   25412          golf    100  17899    183  1994   \n",
       "955    diesel           audi    6962    a4_1.9_tdi     90  41499    173  1997   \n",
       "\n",
       "     ZIP  \n",
       "0      8  \n",
       "1      8  \n",
       "2      4  \n",
       "3      3  \n",
       "4      2  \n",
       "..   ...  \n",
       "951    1  \n",
       "952    3  \n",
       "953    6  \n",
       "954    2  \n",
       "955    4  \n",
       "\n",
       "[956 rows x 15 columns]"
      ]
     },
     "execution_count": 20,
     "metadata": {},
     "output_type": "execute_result"
    }
   ],
   "source": [
    "raw_data = pd.read_csv('./data/used_cars.csv')\n",
    "raw_data"
   ]
  },
  {
   "cell_type": "code",
   "execution_count": 21,
   "id": "16339ed9-d58b-422f-ad47-c3419da6da8a",
   "metadata": {},
   "outputs": [],
   "source": [
    "def plot_numeric_box(plot_data, attribute, title):\n",
    "    if(plot_data[attribute].min()>-100):\n",
    "        ax = sns.boxplot(plot_data[attribute])\n",
    "        #ax = sns.swarmplot(plot_data[attribute], color=\".25\")\n",
    "        ax.set(xlabel=attribute, title=title + ' Boxplot (n='+ plot_data[[attribute]].dropna().__len__().__str__()+' (of ' + plot_data[[attribute]].__len__().__str__() +'))')\n",
    "    \n",
    "def plot_symbolic(plot_data, attribute, title):\n",
    "    if(plot_data[attribute].isnull().sum() != plot_data.caseID.count()):\n",
    "        ax = sns.countplot(x=attribute, data=plot_data)\n",
    "        ax.set(xlabel=attribute, ylabel='Dist', title=title + ' Distribution (n='+ plot_data[[attribute]].dropna().__len__().__str__()+' (of ' + plot_data[[attribute]].__len__().__str__() +'))')\n",
    "    "
   ]
  },
  {
   "cell_type": "code",
   "execution_count": 22,
   "id": "2dba7cd5-d534-4790-8473-df66e03e3c3e",
   "metadata": {},
   "outputs": [
    {
     "name": "stderr",
     "output_type": "stream",
     "text": [
      "/opt/homebrew/Caskroom/miniforge/base/envs/py-env/lib/python3.9/site-packages/seaborn/_decorators.py:36: FutureWarning: Pass the following variable as a keyword arg: x. From version 0.12, the only valid positional argument will be `data`, and passing other arguments without an explicit keyword will result in an error or misinterpretation.\n",
      "  warnings.warn(\n"
     ]
    },
    {
     "data": {
      "image/png": "[encoded data removed]",
      "text/plain": [
       "<Figure size 1600x400 with 1 Axes>"
      ]
     },
     "metadata": {},
     "output_type": "display_data"
    }
   ],
   "source": [
    "plt.rcParams[\"figure.figsize\"] = (16, 4)\n",
    "plot_numeric_box(raw_data, 'CCM', 'CCM')"
   ]
  },
  {
   "cell_type": "code",
   "execution_count": 23,
   "id": "5c8cf18d-a35b-44d3-a06b-94a798d7e312",
   "metadata": {},
   "outputs": [],
   "source": [
    "def get_ranges_numeric(df, attribute):\n",
    "    a_min= df[[attribute]].min()[0]\n",
    "    a_max= df[[attribute]].max()[0]\n",
    "    q1 = df[[attribute]].quantile(0.25)[0]\n",
    "    q3 = df[[attribute]].quantile(0.75)[0]\n",
    "    \n",
    "    print('min-max: [{},{}]'.format(a_min, a_max))\n",
    "    print('0.3 sim:', q3-q1)\n",
    "    \n",
    "    return (a_min, a_max, q3-q1)\n",
    "\n",
    "def get_ranges_symbolic(df, attribute):\n",
    "    print('values for:', df.value_counts(attribute))"
   ]
  },
  {
   "cell_type": "code",
   "execution_count": 24,
   "id": "d0c29362-d5fd-4e73-acb8-caf9a59e5892",
   "metadata": {},
   "outputs": [
    {
     "name": "stdout",
     "output_type": "stream",
     "text": [
      "min-max: [1600,4300]\n",
      "0.3 sim: 1000.0\n"
     ]
    }
   ],
   "source": [
    "att_min, att_max, sim_03 = get_ranges_numeric(raw_data, 'CCM')"
   ]
  },
  {
   "cell_type": "code",
   "execution_count": 25,
   "id": "c3bf2a5c-8363-42b8-9d5b-c751763fb6c4",
   "metadata": {},
   "outputs": [
    {
     "name": "stdout",
     "output_type": "stream",
     "text": [
      "min-max: [4799,95199]\n",
      "0.3 sim: 19525.0\n"
     ]
    }
   ],
   "source": [
    "att_min, att_max, sim_03 = get_ranges_numeric(raw_data, 'Price')"
   ]
  },
  {
   "cell_type": "code",
   "execution_count": 27,
   "id": "26e7b9a4-f613-415d-bab6-8ee5ac1e73f4",
   "metadata": {},
   "outputs": [
    {
     "data": {
      "image/png": "[encoded data removed]",
      "text/plain": [
       "<Figure size 1600x400 with 1 Axes>"
      ]
     },
     "metadata": {},
     "output_type": "display_data"
    }
   ],
   "source": [
    "plot_symbolic(raw_data, 'Body', 'Body')"
   ]
  },
  {
   "cell_type": "code",
   "execution_count": 28,
   "id": "13ee06fa-d54c-4c9f-a204-94cf04fd745d",
   "metadata": {},
   "outputs": [
    {
     "name": "stdout",
     "output_type": "stream",
     "text": [
      "values for: Body\n",
      "sedan            357\n",
      "station_wagon    322\n",
      "fastback         121\n",
      "convertible       67\n",
      "coupe             49\n",
      "roadster          40\n",
      "dtype: int64\n"
     ]
    }
   ],
   "source": [
    "get_ranges_symbolic(raw_data, 'Body')"
   ]
  },
  {
   "cell_type": "code",
   "execution_count": null,
   "id": "0e2aa695-4c6a-4d2e-9f82-5c5fb6c1ba3a",
   "metadata": {},
   "outputs": [],
   "source": []
  },
  {
   "cell_type": "code",
   "execution_count": null,
   "id": "f8236279-b9e6-4726-b7fb-dc8cebb60324",
   "metadata": {},
   "outputs": [],
   "source": []
  },
  {
   "cell_type": "code",
   "execution_count": null,
   "id": "f0228992-946c-4656-ab2a-0c8875796eb4",
   "metadata": {},
   "outputs": [],
   "source": []
  }
 ],
 "metadata": {
  "kernelspec": {
   "display_name": "Python 3 (ipykernel)",
   "language": "python",
   "name": "python3"
  },
  "language_info": {
   "codemirror_mode": {
    "name": "ipython",
    "version": 3
   },
   "file_extension": ".py",
   "mimetype": "text/x-python",
   "name": "python",
   "nbconvert_exporter": "python",
   "pygments_lexer": "ipython3",
   "version": "3.9.7"
  }
 },
 "nbformat": 4,
 "nbformat_minor": 5
}
