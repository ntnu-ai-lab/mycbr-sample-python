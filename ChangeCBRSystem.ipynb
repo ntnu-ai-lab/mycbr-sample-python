{
 "cells": [
  {
   "cell_type": "markdown",
   "id": "725db473-fc12-4d5d-b1b2-7536cf59c209",
   "metadata": {},
   "source": [
    "# Add Case Base, Cases & Global Similarity Function\n",
    "This script shows how to add cases to an existing project"
   ]
  },
  {
   "cell_type": "code",
   "execution_count": 1,
   "id": "2f4d266a-3831-4a55-8437-06402286ab47",
   "metadata": {},
   "outputs": [],
   "source": [
    "# Render our plots inline\n",
    "%matplotlib inline\n",
    "\n",
    "from requests import get\n",
    "import requests\n",
    "import pandas as pd\n",
    "import numpy as np\n",
    "import seaborn as sns\n",
    "import matplotlib.pyplot as plt\n",
    "import datetime\n",
    "\n",
    "from pandas import json_normalize\n",
    "\n",
    "from mycbr_py_api import MyCBRRestApi as mycbr"
   ]
  },
  {
   "cell_type": "code",
   "execution_count": 2,
   "id": "7305474e-03aa-42b6-b895-480a75547b39",
   "metadata": {},
   "outputs": [],
   "source": [
    "server = 'localhost'\n",
    "#server = 'hv-6066.idi.ntnu.no'\n",
    "\n",
    "port = '8080'\n",
    "base_url = 'http://' + server + ':' + port + '/'\n",
    "\n",
    "obj = mycbr(base_url)"
   ]
  },
  {
   "cell_type": "markdown",
   "id": "61b215f6-3410-45f9-b183-9b8fe57c5f66",
   "metadata": {},
   "source": [
    "## Adding a new case base and cases to a project"
   ]
  },
  {
   "cell_type": "code",
   "execution_count": 3,
   "id": "28c5c6c0-92d5-4c1a-aa5a-92d37af7832e",
   "metadata": {},
   "outputs": [
    {
     "data": {
      "text/plain": [
       "['CaseBase0']"
      ]
     },
     "execution_count": 3,
     "metadata": {},
     "output_type": "execute_result"
    }
   ],
   "source": [
    "# Existing case bases\n",
    "obj.getCaseBaseIDs()"
   ]
  },
  {
   "cell_type": "code",
   "execution_count": 4,
   "id": "73228a35-a910-4b7d-8cc9-10db92ea6acc",
   "metadata": {},
   "outputs": [
    {
     "data": {
      "text/plain": [
       "True"
      ]
     },
     "execution_count": 4,
     "metadata": {},
     "output_type": "execute_result"
    }
   ],
   "source": [
    "obj.addCaseBaseID('NewCB')"
   ]
  },
  {
   "cell_type": "code",
   "execution_count": 5,
   "id": "8eca4f8d-c647-453c-a3e5-eba5bf9de8f5",
   "metadata": {},
   "outputs": [
    {
     "data": {
      "text/plain": [
       "['NewCB', 'CaseBase0']"
      ]
     },
     "execution_count": 5,
     "metadata": {},
     "output_type": "execute_result"
    }
   ],
   "source": [
    "obj.getCaseBaseIDs()"
   ]
  },
  {
   "cell_type": "code",
   "execution_count": 6,
   "id": "45172259-5272-49f5-b2b5-ffe15a78a5f4",
   "metadata": {},
   "outputs": [
    {
     "data": {
      "text/html": [
       "<div>\n",
       "<style scoped>\n",
       "    .dataframe tbody tr th:only-of-type {\n",
       "        vertical-align: middle;\n",
       "    }\n",
       "\n",
       "    .dataframe tbody tr th {\n",
       "        vertical-align: top;\n",
       "    }\n",
       "\n",
       "    .dataframe thead th {\n",
       "        text-align: right;\n",
       "    }\n",
       "</style>\n",
       "<table border=\"1\" class=\"dataframe\">\n",
       "  <thead>\n",
       "    <tr style=\"text-align: right;\">\n",
       "      <th></th>\n",
       "      <th>Body</th>\n",
       "      <th>CCM</th>\n",
       "      <th>Car Code</th>\n",
       "      <th>Color</th>\n",
       "      <th>Doors</th>\n",
       "      <th>Gas</th>\n",
       "      <th>Manufacturer</th>\n",
       "      <th>Miles</th>\n",
       "      <th>Model</th>\n",
       "      <th>Power</th>\n",
       "      <th>Price</th>\n",
       "      <th>Speed</th>\n",
       "      <th>Year</th>\n",
       "      <th>ZIP</th>\n",
       "    </tr>\n",
       "  </thead>\n",
       "  <tbody>\n",
       "    <tr>\n",
       "      <th>0</th>\n",
       "      <td>station_wagon</td>\n",
       "      <td>2800</td>\n",
       "      <td>486</td>\n",
       "      <td>yellow</td>\n",
       "      <td>5</td>\n",
       "      <td>gasoline</td>\n",
       "      <td>mercedes-benz</td>\n",
       "      <td>136768</td>\n",
       "      <td>c_280</td>\n",
       "      <td>197</td>\n",
       "      <td>19199</td>\n",
       "      <td>213</td>\n",
       "      <td>1995</td>\n",
       "      <td>7</td>\n",
       "    </tr>\n",
       "  </tbody>\n",
       "</table>\n",
       "</div>"
      ],
      "text/plain": [
       "            Body   CCM  Car Code   Color  Doors       Gas   Manufacturer  \\\n",
       "0  station_wagon  2800       486  yellow      5  gasoline  mercedes-benz   \n",
       "\n",
       "    Miles  Model  Power  Price  Speed  Year  ZIP  \n",
       "0  136768  c_280    197  19199    213  1995    7  "
      ]
     },
     "execution_count": 6,
     "metadata": {},
     "output_type": "execute_result"
    }
   ],
   "source": [
    "# Create a dataframe of cases that should be added\n",
    "raw_data = pd.read_csv('./data/used_cars.csv')\n",
    "cases = raw_data.sample(10).reset_index(drop=True) # sample ten cases from the CSV to be added\n",
    "cases = cases.drop(['caseID'], axis=1) # remove the case ID as we create a new ID in add_rows_as_cases; if you want to keep the ID, adapt add_rows_as_cases accordingly\n",
    "cases"
   ]
  },
  {
   "cell_type": "code",
   "execution_count": 7,
   "id": "bbd7396c-5610-4e01-9af7-391222f3599e",
   "metadata": {},
   "outputs": [
    {
     "data": {
      "text/plain": [
       "['Car']"
      ]
     },
     "execution_count": 7,
     "metadata": {},
     "output_type": "execute_result"
    }
   ],
   "source": [
    "# Finding the name of the concepts\n",
    "obj.getAllConcepts()"
   ]
  },
  {
   "cell_type": "code",
   "execution_count": 8,
   "id": "3141432a-dbeb-4291-9fe6-768a3b8dcf5c",
   "metadata": {},
   "outputs": [],
   "source": [
    "headers = {'Content-type':'application/json'}\n",
    "\n",
    "# add cases to casebase\n",
    "def add_rows_as_cases(x, concept, casebase):\n",
    "    case_id = 'case-' + str(x['index'])\n",
    "    x = x.drop(['index'])\n",
    "    print(case_id, x.to_json())\n",
    "    requests.post(base_url + 'concepts/' + concept + '/casebases/' + casebase +'/cases/' + case_id, data = str(x.to_json()), headers=headers)\n",
    "\n",
    "# add cases to casebase from dataframe\n",
    "def add_cases_from_df(df, concept, casebase):  \n",
    "    tmp = df.copy(deep=True)\n",
    "    tmp.reset_index(inplace=True)\n",
    "    tmp.apply(add_rows_as_cases, args=(concept, casebase), axis=1)"
   ]
  },
  {
   "cell_type": "code",
   "execution_count": 9,
   "id": "e113a91c-132c-4c5d-b7f4-c8a4d6b2e619",
   "metadata": {},
   "outputs": [
    {
     "name": "stdout",
     "output_type": "stream",
     "text": [
      "case-0 {\"Body\":\"station_wagon\",\"CCM\":2800,\"Car Code\":486,\"Color\":\"yellow\",\"Doors\":5,\"Gas\":\"gasoline\",\"Manufacturer\":\"mercedes-benz\",\"Miles\":136768,\"Model\":\"c_280\",\"Power\":197,\"Price\":19199,\"Speed\":213,\"Year\":1995,\"ZIP\":7}\n"
     ]
    }
   ],
   "source": [
    "add_cases_from_df(cases, 'Car', 'NewCB') "
   ]
  },
  {
   "cell_type": "code",
   "execution_count": 10,
   "id": "92562ce6-9833-4e60-8ab4-901d2bfae48b",
   "metadata": {},
   "outputs": [
    {
     "data": {
      "text/html": [
       "<div>\n",
       "<style scoped>\n",
       "    .dataframe tbody tr th:only-of-type {\n",
       "        vertical-align: middle;\n",
       "    }\n",
       "\n",
       "    .dataframe tbody tr th {\n",
       "        vertical-align: top;\n",
       "    }\n",
       "\n",
       "    .dataframe thead th {\n",
       "        text-align: right;\n",
       "    }\n",
       "</style>\n",
       "<table border=\"1\" class=\"dataframe\">\n",
       "  <thead>\n",
       "    <tr style=\"text-align: right;\">\n",
       "      <th></th>\n",
       "      <th>similarity</th>\n",
       "      <th>caseID</th>\n",
       "      <th>Body</th>\n",
       "      <th>CCM</th>\n",
       "      <th>Car Code</th>\n",
       "      <th>Color</th>\n",
       "      <th>Doors</th>\n",
       "      <th>Gas</th>\n",
       "      <th>Manufacturer</th>\n",
       "      <th>Miles</th>\n",
       "      <th>Model</th>\n",
       "      <th>Power</th>\n",
       "      <th>Price</th>\n",
       "      <th>Speed</th>\n",
       "      <th>Year</th>\n",
       "      <th>ZIP</th>\n",
       "    </tr>\n",
       "  </thead>\n",
       "  <tbody>\n",
       "    <tr>\n",
       "      <th>0</th>\n",
       "      <td>1.0</td>\n",
       "      <td>case-0</td>\n",
       "      <td>station_wagon</td>\n",
       "      <td>2800</td>\n",
       "      <td>486</td>\n",
       "      <td>yellow</td>\n",
       "      <td>5</td>\n",
       "      <td>gasoline</td>\n",
       "      <td>mercedes-benz</td>\n",
       "      <td>136768</td>\n",
       "      <td>c_280</td>\n",
       "      <td>197</td>\n",
       "      <td>19199.0</td>\n",
       "      <td>213</td>\n",
       "      <td>1995</td>\n",
       "      <td>7</td>\n",
       "    </tr>\n",
       "  </tbody>\n",
       "</table>\n",
       "</div>"
      ],
      "text/plain": [
       "  similarity  caseID           Body   CCM Car Code   Color Doors       Gas  \\\n",
       "0        1.0  case-0  station_wagon  2800      486  yellow     5  gasoline   \n",
       "\n",
       "    Manufacturer   Miles  Model Power    Price Speed  Year ZIP  \n",
       "0  mercedes-benz  136768  c_280   197  19199.0   213  1995   7  "
      ]
     },
     "execution_count": 10,
     "metadata": {},
     "output_type": "execute_result"
    }
   ],
   "source": [
    "obj.getAllCasesFromCaseBase('Car', 'NewCB')"
   ]
  },
  {
   "cell_type": "markdown",
   "id": "dc2dee07-4017-40c3-955c-3b688cdbedce",
   "metadata": {},
   "source": [
    "## Remove Cases"
   ]
  },
  {
   "cell_type": "code",
   "execution_count": 11,
   "id": "debfda89-fe49-4a65-b0e3-307e351cec00",
   "metadata": {},
   "outputs": [],
   "source": [
    "# delete cases from casebase\n",
    "def delete_all_cases_from_cb(concept, casebase):\n",
    "    requests.delete(base_url + 'concepts/' + concept + '/casebases/' + casebase +'/cases')\n",
    "\n",
    "# delete specific case from casebase\n",
    "def delete_case_from_cb(concept, casebase, caseid):\n",
    "    requests.delete(base_url + 'concepts/' + concept + '/casebases/' + casebase +'/cases/' + caseid)\n",
    "    "
   ]
  },
  {
   "cell_type": "code",
   "execution_count": 12,
   "id": "67af9077-8c40-4a53-b918-d51a48a122b3",
   "metadata": {},
   "outputs": [],
   "source": [
    "# Delete all cases\n",
    "delete_all_cases_from_cb('Car', 'NewCB')"
   ]
  },
  {
   "cell_type": "code",
   "execution_count": 13,
   "id": "bec45ac1-b175-4636-a71b-8bbee526fcb7",
   "metadata": {},
   "outputs": [
    {
     "name": "stdout",
     "output_type": "stream",
     "text": [
      "The response from myCBR is empty! Kindly have a look!\n",
      "The Dataframe is :  Empty DataFrame\n",
      "Columns: []\n",
      "Index: []\n"
     ]
    },
    {
     "data": {
      "text/html": [
       "<div>\n",
       "<style scoped>\n",
       "    .dataframe tbody tr th:only-of-type {\n",
       "        vertical-align: middle;\n",
       "    }\n",
       "\n",
       "    .dataframe tbody tr th {\n",
       "        vertical-align: top;\n",
       "    }\n",
       "\n",
       "    .dataframe thead th {\n",
       "        text-align: right;\n",
       "    }\n",
       "</style>\n",
       "<table border=\"1\" class=\"dataframe\">\n",
       "  <thead>\n",
       "    <tr style=\"text-align: right;\">\n",
       "      <th></th>\n",
       "    </tr>\n",
       "  </thead>\n",
       "  <tbody>\n",
       "  </tbody>\n",
       "</table>\n",
       "</div>"
      ],
      "text/plain": [
       "Empty DataFrame\n",
       "Columns: []\n",
       "Index: []"
      ]
     },
     "execution_count": 13,
     "metadata": {},
     "output_type": "execute_result"
    }
   ],
   "source": [
    "obj.getAllCasesFromCaseBase('Car', 'NewCB')"
   ]
  },
  {
   "cell_type": "code",
   "execution_count": 14,
   "id": "3fb4d6e0-ad18-4e90-96a2-c5d6248bc890",
   "metadata": {},
   "outputs": [
    {
     "name": "stdout",
     "output_type": "stream",
     "text": [
      "case-0 {\"Body\":\"station_wagon\",\"CCM\":2800,\"Car Code\":486,\"Color\":\"yellow\",\"Doors\":5,\"Gas\":\"gasoline\",\"Manufacturer\":\"mercedes-benz\",\"Miles\":136768,\"Model\":\"c_280\",\"Power\":197,\"Price\":19199,\"Speed\":213,\"Year\":1995,\"ZIP\":7}\n"
     ]
    }
   ],
   "source": [
    "# add cases again\n",
    "add_cases_from_df(cases, 'Car', 'NewCB') "
   ]
  },
  {
   "cell_type": "code",
   "execution_count": 15,
   "id": "ab6e0506-5ed9-4da4-9c77-0da023b4cd96",
   "metadata": {},
   "outputs": [
    {
     "data": {
      "text/html": [
       "<div>\n",
       "<style scoped>\n",
       "    .dataframe tbody tr th:only-of-type {\n",
       "        vertical-align: middle;\n",
       "    }\n",
       "\n",
       "    .dataframe tbody tr th {\n",
       "        vertical-align: top;\n",
       "    }\n",
       "\n",
       "    .dataframe thead th {\n",
       "        text-align: right;\n",
       "    }\n",
       "</style>\n",
       "<table border=\"1\" class=\"dataframe\">\n",
       "  <thead>\n",
       "    <tr style=\"text-align: right;\">\n",
       "      <th></th>\n",
       "      <th>similarity</th>\n",
       "      <th>caseID</th>\n",
       "      <th>Body</th>\n",
       "      <th>CCM</th>\n",
       "      <th>Car Code</th>\n",
       "      <th>Color</th>\n",
       "      <th>Doors</th>\n",
       "      <th>Gas</th>\n",
       "      <th>Manufacturer</th>\n",
       "      <th>Miles</th>\n",
       "      <th>Model</th>\n",
       "      <th>Power</th>\n",
       "      <th>Price</th>\n",
       "      <th>Speed</th>\n",
       "      <th>Year</th>\n",
       "      <th>ZIP</th>\n",
       "    </tr>\n",
       "  </thead>\n",
       "  <tbody>\n",
       "    <tr>\n",
       "      <th>0</th>\n",
       "      <td>1.0</td>\n",
       "      <td>case-0</td>\n",
       "      <td>station_wagon</td>\n",
       "      <td>2800</td>\n",
       "      <td>486</td>\n",
       "      <td>yellow</td>\n",
       "      <td>5</td>\n",
       "      <td>gasoline</td>\n",
       "      <td>mercedes-benz</td>\n",
       "      <td>136768</td>\n",
       "      <td>c_280</td>\n",
       "      <td>197</td>\n",
       "      <td>19199.0</td>\n",
       "      <td>213</td>\n",
       "      <td>1995</td>\n",
       "      <td>7</td>\n",
       "    </tr>\n",
       "  </tbody>\n",
       "</table>\n",
       "</div>"
      ],
      "text/plain": [
       "  similarity  caseID           Body   CCM Car Code   Color Doors       Gas  \\\n",
       "0        1.0  case-0  station_wagon  2800      486  yellow     5  gasoline   \n",
       "\n",
       "    Manufacturer   Miles  Model Power    Price Speed  Year ZIP  \n",
       "0  mercedes-benz  136768  c_280   197  19199.0   213  1995   7  "
      ]
     },
     "execution_count": 15,
     "metadata": {},
     "output_type": "execute_result"
    }
   ],
   "source": [
    "# show case base\n",
    "obj.getAllCasesFromCaseBase('Car', 'NewCB')"
   ]
  },
  {
   "cell_type": "code",
   "execution_count": 16,
   "id": "86a57121-8eca-4c62-9765-d9e29e9aecf7",
   "metadata": {},
   "outputs": [],
   "source": [
    "# delete case by case ID\n",
    "delete_case_from_cb('Car', 'NewCB', 'case-1')"
   ]
  },
  {
   "cell_type": "code",
   "execution_count": 17,
   "id": "33d0594c-ea46-4ace-92f2-528217433788",
   "metadata": {},
   "outputs": [
    {
     "data": {
      "text/html": [
       "<div>\n",
       "<style scoped>\n",
       "    .dataframe tbody tr th:only-of-type {\n",
       "        vertical-align: middle;\n",
       "    }\n",
       "\n",
       "    .dataframe tbody tr th {\n",
       "        vertical-align: top;\n",
       "    }\n",
       "\n",
       "    .dataframe thead th {\n",
       "        text-align: right;\n",
       "    }\n",
       "</style>\n",
       "<table border=\"1\" class=\"dataframe\">\n",
       "  <thead>\n",
       "    <tr style=\"text-align: right;\">\n",
       "      <th></th>\n",
       "      <th>similarity</th>\n",
       "      <th>caseID</th>\n",
       "      <th>Body</th>\n",
       "      <th>CCM</th>\n",
       "      <th>Car Code</th>\n",
       "      <th>Color</th>\n",
       "      <th>Doors</th>\n",
       "      <th>Gas</th>\n",
       "      <th>Manufacturer</th>\n",
       "      <th>Miles</th>\n",
       "      <th>Model</th>\n",
       "      <th>Power</th>\n",
       "      <th>Price</th>\n",
       "      <th>Speed</th>\n",
       "      <th>Year</th>\n",
       "      <th>ZIP</th>\n",
       "    </tr>\n",
       "  </thead>\n",
       "  <tbody>\n",
       "    <tr>\n",
       "      <th>0</th>\n",
       "      <td>1.0</td>\n",
       "      <td>case-0</td>\n",
       "      <td>station_wagon</td>\n",
       "      <td>2800</td>\n",
       "      <td>486</td>\n",
       "      <td>yellow</td>\n",
       "      <td>5</td>\n",
       "      <td>gasoline</td>\n",
       "      <td>mercedes-benz</td>\n",
       "      <td>136768</td>\n",
       "      <td>c_280</td>\n",
       "      <td>197</td>\n",
       "      <td>19199.0</td>\n",
       "      <td>213</td>\n",
       "      <td>1995</td>\n",
       "      <td>7</td>\n",
       "    </tr>\n",
       "  </tbody>\n",
       "</table>\n",
       "</div>"
      ],
      "text/plain": [
       "  similarity  caseID           Body   CCM Car Code   Color Doors       Gas  \\\n",
       "0        1.0  case-0  station_wagon  2800      486  yellow     5  gasoline   \n",
       "\n",
       "    Manufacturer   Miles  Model Power    Price Speed  Year ZIP  \n",
       "0  mercedes-benz  136768  c_280   197  19199.0   213  1995   7  "
      ]
     },
     "execution_count": 17,
     "metadata": {},
     "output_type": "execute_result"
    }
   ],
   "source": [
    "# show case base\n",
    "obj.getAllCasesFromCaseBase('Car', 'NewCB')"
   ]
  },
  {
   "cell_type": "code",
   "execution_count": null,
   "id": "abad667b-0d9a-4238-aa98-7d7ad4506207",
   "metadata": {},
   "outputs": [],
   "source": []
  },
  {
   "cell_type": "code",
   "execution_count": null,
   "id": "f62ca64b-b171-45f6-a549-9a86af1b3882",
   "metadata": {},
   "outputs": [],
   "source": []
  },
  {
   "cell_type": "markdown",
   "id": "c9f36c40-7658-4dfc-b8c4-5d0b84c0644c",
   "metadata": {},
   "source": [
    "## View and add a new amalgamation function"
   ]
  },
  {
   "cell_type": "code",
   "execution_count": 18,
   "id": "7ff7d776-75a3-4ba4-9364-cfaa7609648c",
   "metadata": {},
   "outputs": [
    {
     "data": {
      "text/plain": [
       "['CarFunc']"
      ]
     },
     "execution_count": 18,
     "metadata": {},
     "output_type": "execute_result"
    }
   ],
   "source": [
    "# Existing functions\n",
    "obj.getAllAmalgamationFunctions('Car')"
   ]
  },
  {
   "cell_type": "code",
   "execution_count": 19,
   "id": "7aa6b674-1602-478d-8ad3-15be8df962e1",
   "metadata": {},
   "outputs": [],
   "source": [
    "# Method to show the current function\n",
    "def show_amalgamation_function(concept, amalgamationFunctionID):\n",
    "    raw = pd.DataFrame(requests.get(base_url + 'analytics/' + 'concepts/' + concept + '/amalgamationFunctions/{amalgamationFunctionID}/globalWeights?amalgamationFunctionID=' + amalgamationFunctionID).json()) .T\n",
    "    raw.loc[:,'Weights'] = raw.sum(numeric_only=True, axis=1)\n",
    "    return raw[['Weights']]\n",
    "\n",
    "# Method to add new amalgamation function\n",
    "def newAmalgamationFunc(c, amalFuncID, amalFuncType, json):\n",
    "    return requests.put(base_url + 'concepts/' + c + '/amalgamationFunctions?amalgamationFunctionID=' + amalFuncID + '&amalgamationFunctionType=' + amalFuncType + '&attributeWeightsJSON=' + json)"
   ]
  },
  {
   "cell_type": "code",
   "execution_count": 20,
   "id": "c248732b-1cad-4d3b-9414-1ed20b01d0cb",
   "metadata": {},
   "outputs": [
    {
     "data": {
      "text/html": [
       "<div>\n",
       "<style scoped>\n",
       "    .dataframe tbody tr th:only-of-type {\n",
       "        vertical-align: middle;\n",
       "    }\n",
       "\n",
       "    .dataframe tbody tr th {\n",
       "        vertical-align: top;\n",
       "    }\n",
       "\n",
       "    .dataframe thead th {\n",
       "        text-align: right;\n",
       "    }\n",
       "</style>\n",
       "<table border=\"1\" class=\"dataframe\">\n",
       "  <thead>\n",
       "    <tr style=\"text-align: right;\">\n",
       "      <th></th>\n",
       "      <th>Weights</th>\n",
       "    </tr>\n",
       "  </thead>\n",
       "  <tbody>\n",
       "    <tr>\n",
       "      <th>Body</th>\n",
       "      <td>5.0</td>\n",
       "    </tr>\n",
       "    <tr>\n",
       "      <th>CCM</th>\n",
       "      <td>1.0</td>\n",
       "    </tr>\n",
       "    <tr>\n",
       "      <th>Car Code</th>\n",
       "      <td>1.0</td>\n",
       "    </tr>\n",
       "    <tr>\n",
       "      <th>Color</th>\n",
       "      <td>5.0</td>\n",
       "    </tr>\n",
       "    <tr>\n",
       "      <th>Doors</th>\n",
       "      <td>2.0</td>\n",
       "    </tr>\n",
       "    <tr>\n",
       "      <th>Gas</th>\n",
       "      <td>1.0</td>\n",
       "    </tr>\n",
       "    <tr>\n",
       "      <th>Manufacturer</th>\n",
       "      <td>7.0</td>\n",
       "    </tr>\n",
       "    <tr>\n",
       "      <th>Miles</th>\n",
       "      <td>3.0</td>\n",
       "    </tr>\n",
       "    <tr>\n",
       "      <th>Model</th>\n",
       "      <td>5.0</td>\n",
       "    </tr>\n",
       "    <tr>\n",
       "      <th>Power</th>\n",
       "      <td>3.0</td>\n",
       "    </tr>\n",
       "    <tr>\n",
       "      <th>Price</th>\n",
       "      <td>7.0</td>\n",
       "    </tr>\n",
       "    <tr>\n",
       "      <th>Speed</th>\n",
       "      <td>1.0</td>\n",
       "    </tr>\n",
       "    <tr>\n",
       "      <th>Year</th>\n",
       "      <td>1.0</td>\n",
       "    </tr>\n",
       "    <tr>\n",
       "      <th>ZIP</th>\n",
       "      <td>1.0</td>\n",
       "    </tr>\n",
       "  </tbody>\n",
       "</table>\n",
       "</div>"
      ],
      "text/plain": [
       "              Weights\n",
       "Body              5.0\n",
       "CCM               1.0\n",
       "Car Code          1.0\n",
       "Color             5.0\n",
       "Doors             2.0\n",
       "Gas               1.0\n",
       "Manufacturer      7.0\n",
       "Miles             3.0\n",
       "Model             5.0\n",
       "Power             3.0\n",
       "Price             7.0\n",
       "Speed             1.0\n",
       "Year              1.0\n",
       "ZIP               1.0"
      ]
     },
     "execution_count": 20,
     "metadata": {},
     "output_type": "execute_result"
    }
   ],
   "source": [
    "show_amalgamation_function('Car', 'CarFunc')"
   ]
  },
  {
   "cell_type": "code",
   "execution_count": 21,
   "id": "eec9728f-9926-421c-8728-d2d844d88454",
   "metadata": {},
   "outputs": [
    {
     "data": {
      "text/plain": [
       "<Response [200]>"
      ]
     },
     "execution_count": 21,
     "metadata": {},
     "output_type": "execute_result"
    }
   ],
   "source": [
    "# Define the new function\n",
    "json = '{\"Body\":3,\"CCM\":1,\"Car Code\":0,\"Color\":5,\"Doors\":2,\"Gas\":1,\"Manufacturer\":7,\"Miles\":3,\"Model\":2,\"Power\":3,\"Price\":7,\"Speed\":1,\"Year\":1,\"ZIP\":1}'\n",
    "# and add it to the concept\n",
    "newAmalgamationFunc('Car','amal_func_0', 'WEIGHTED_SUM', json)"
   ]
  },
  {
   "cell_type": "code",
   "execution_count": 22,
   "id": "f3bf1cca-9802-433d-ad53-a16243ea506c",
   "metadata": {},
   "outputs": [
    {
     "data": {
      "text/html": [
       "<div>\n",
       "<style scoped>\n",
       "    .dataframe tbody tr th:only-of-type {\n",
       "        vertical-align: middle;\n",
       "    }\n",
       "\n",
       "    .dataframe tbody tr th {\n",
       "        vertical-align: top;\n",
       "    }\n",
       "\n",
       "    .dataframe thead th {\n",
       "        text-align: right;\n",
       "    }\n",
       "</style>\n",
       "<table border=\"1\" class=\"dataframe\">\n",
       "  <thead>\n",
       "    <tr style=\"text-align: right;\">\n",
       "      <th></th>\n",
       "      <th>Weights</th>\n",
       "    </tr>\n",
       "  </thead>\n",
       "  <tbody>\n",
       "    <tr>\n",
       "      <th>Body</th>\n",
       "      <td>3.0</td>\n",
       "    </tr>\n",
       "    <tr>\n",
       "      <th>CCM</th>\n",
       "      <td>1.0</td>\n",
       "    </tr>\n",
       "    <tr>\n",
       "      <th>Car Code</th>\n",
       "      <td>0.0</td>\n",
       "    </tr>\n",
       "    <tr>\n",
       "      <th>Color</th>\n",
       "      <td>5.0</td>\n",
       "    </tr>\n",
       "    <tr>\n",
       "      <th>Doors</th>\n",
       "      <td>2.0</td>\n",
       "    </tr>\n",
       "    <tr>\n",
       "      <th>Gas</th>\n",
       "      <td>1.0</td>\n",
       "    </tr>\n",
       "    <tr>\n",
       "      <th>Manufacturer</th>\n",
       "      <td>7.0</td>\n",
       "    </tr>\n",
       "    <tr>\n",
       "      <th>Miles</th>\n",
       "      <td>3.0</td>\n",
       "    </tr>\n",
       "    <tr>\n",
       "      <th>Model</th>\n",
       "      <td>2.0</td>\n",
       "    </tr>\n",
       "    <tr>\n",
       "      <th>Power</th>\n",
       "      <td>3.0</td>\n",
       "    </tr>\n",
       "    <tr>\n",
       "      <th>Price</th>\n",
       "      <td>7.0</td>\n",
       "    </tr>\n",
       "    <tr>\n",
       "      <th>Speed</th>\n",
       "      <td>1.0</td>\n",
       "    </tr>\n",
       "    <tr>\n",
       "      <th>Year</th>\n",
       "      <td>1.0</td>\n",
       "    </tr>\n",
       "    <tr>\n",
       "      <th>ZIP</th>\n",
       "      <td>1.0</td>\n",
       "    </tr>\n",
       "  </tbody>\n",
       "</table>\n",
       "</div>"
      ],
      "text/plain": [
       "              Weights\n",
       "Body              3.0\n",
       "CCM               1.0\n",
       "Car Code          0.0\n",
       "Color             5.0\n",
       "Doors             2.0\n",
       "Gas               1.0\n",
       "Manufacturer      7.0\n",
       "Miles             3.0\n",
       "Model             2.0\n",
       "Power             3.0\n",
       "Price             7.0\n",
       "Speed             1.0\n",
       "Year              1.0\n",
       "ZIP               1.0"
      ]
     },
     "execution_count": 22,
     "metadata": {},
     "output_type": "execute_result"
    }
   ],
   "source": [
    "# Show the new function\n",
    "show_amalgamation_function('Car', 'amal_func_0')"
   ]
  },
  {
   "cell_type": "code",
   "execution_count": 23,
   "id": "78b51b41-adc0-48c5-8160-405561d8995b",
   "metadata": {},
   "outputs": [
    {
     "data": {
      "text/plain": [
       "<Response [200]>"
      ]
     },
     "execution_count": 23,
     "metadata": {},
     "output_type": "execute_result"
    }
   ],
   "source": [
    "# Define the new function - only those attributes that are not 1 need to be specified\n",
    "json = '{\"Body\":3,\"Power\":3,\"Price\":7}'\n",
    "# and add it to the concept\n",
    "newAmalgamationFunc('Car','amal_func_1', 'WEIGHTED_SUM', json)"
   ]
  },
  {
   "cell_type": "code",
   "execution_count": 24,
   "id": "6c3e8e22-742b-4c89-ab8a-3e3e23ac3b78",
   "metadata": {},
   "outputs": [
    {
     "data": {
      "text/html": [
       "<div>\n",
       "<style scoped>\n",
       "    .dataframe tbody tr th:only-of-type {\n",
       "        vertical-align: middle;\n",
       "    }\n",
       "\n",
       "    .dataframe tbody tr th {\n",
       "        vertical-align: top;\n",
       "    }\n",
       "\n",
       "    .dataframe thead th {\n",
       "        text-align: right;\n",
       "    }\n",
       "</style>\n",
       "<table border=\"1\" class=\"dataframe\">\n",
       "  <thead>\n",
       "    <tr style=\"text-align: right;\">\n",
       "      <th></th>\n",
       "      <th>Weights</th>\n",
       "    </tr>\n",
       "  </thead>\n",
       "  <tbody>\n",
       "    <tr>\n",
       "      <th>Body</th>\n",
       "      <td>3.0</td>\n",
       "    </tr>\n",
       "    <tr>\n",
       "      <th>CCM</th>\n",
       "      <td>1.0</td>\n",
       "    </tr>\n",
       "    <tr>\n",
       "      <th>Car Code</th>\n",
       "      <td>1.0</td>\n",
       "    </tr>\n",
       "    <tr>\n",
       "      <th>Color</th>\n",
       "      <td>1.0</td>\n",
       "    </tr>\n",
       "    <tr>\n",
       "      <th>Doors</th>\n",
       "      <td>1.0</td>\n",
       "    </tr>\n",
       "    <tr>\n",
       "      <th>Gas</th>\n",
       "      <td>1.0</td>\n",
       "    </tr>\n",
       "    <tr>\n",
       "      <th>Manufacturer</th>\n",
       "      <td>1.0</td>\n",
       "    </tr>\n",
       "    <tr>\n",
       "      <th>Miles</th>\n",
       "      <td>1.0</td>\n",
       "    </tr>\n",
       "    <tr>\n",
       "      <th>Model</th>\n",
       "      <td>1.0</td>\n",
       "    </tr>\n",
       "    <tr>\n",
       "      <th>Power</th>\n",
       "      <td>3.0</td>\n",
       "    </tr>\n",
       "    <tr>\n",
       "      <th>Price</th>\n",
       "      <td>7.0</td>\n",
       "    </tr>\n",
       "    <tr>\n",
       "      <th>Speed</th>\n",
       "      <td>1.0</td>\n",
       "    </tr>\n",
       "    <tr>\n",
       "      <th>Year</th>\n",
       "      <td>1.0</td>\n",
       "    </tr>\n",
       "    <tr>\n",
       "      <th>ZIP</th>\n",
       "      <td>1.0</td>\n",
       "    </tr>\n",
       "  </tbody>\n",
       "</table>\n",
       "</div>"
      ],
      "text/plain": [
       "              Weights\n",
       "Body              3.0\n",
       "CCM               1.0\n",
       "Car Code          1.0\n",
       "Color             1.0\n",
       "Doors             1.0\n",
       "Gas               1.0\n",
       "Manufacturer      1.0\n",
       "Miles             1.0\n",
       "Model             1.0\n",
       "Power             3.0\n",
       "Price             7.0\n",
       "Speed             1.0\n",
       "Year              1.0\n",
       "ZIP               1.0"
      ]
     },
     "execution_count": 24,
     "metadata": {},
     "output_type": "execute_result"
    }
   ],
   "source": [
    "# Show the new function\n",
    "show_amalgamation_function('Car', 'amal_func_1')"
   ]
  },
  {
   "cell_type": "code",
   "execution_count": null,
   "id": "d13ad8db-6d70-4f36-8b2d-fd1c8f59f786",
   "metadata": {},
   "outputs": [],
   "source": []
  },
  {
   "cell_type": "code",
   "execution_count": null,
   "id": "ddb9b4fb-dbb3-4a50-847a-bf5084cb49f7",
   "metadata": {},
   "outputs": [],
   "source": []
  }
 ],
 "metadata": {
  "kernelspec": {
   "display_name": "Python 3 (ipykernel)",
   "language": "python",
   "name": "python3"
  },
  "language_info": {
   "codemirror_mode": {
    "name": "ipython",
    "version": 3
   },
   "file_extension": ".py",
   "mimetype": "text/x-python",
   "name": "python",
   "nbconvert_exporter": "python",
   "pygments_lexer": "ipython3",
   "version": "3.9.7"
  }
 },
 "nbformat": 4,
 "nbformat_minor": 5
}
