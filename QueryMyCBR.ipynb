{
 "cells": [
  {
   "cell_type": "code",
   "execution_count": 1,
   "metadata": {},
   "outputs": [],
   "source": [
    "# Render our plots inline\n",
    "%matplotlib inline\n",
    "\n",
    "from requests import get\n",
    "import requests\n",
    "import pandas as pd\n",
    "import numpy as np\n",
    "import seaborn as sns\n",
    "import matplotlib.pyplot as plt\n",
    "import datetime\n",
    "\n",
    "from pandas.io.json import json_normalize\n",
    "\n",
    "from mycbr_py_api import MyCBRRestApi as mycbr"
   ]
  },
  {
   "cell_type": "markdown",
   "metadata": {},
   "source": [
    "# Basic Settings\n",
    "Here you need to specify where the API is running. The default port is 8080, so if you only change the machine, specify it's name in \"server\""
   ]
  },
  {
   "cell_type": "code",
   "execution_count": 3,
   "metadata": {},
   "outputs": [],
   "source": [
    "server = 'localhost'\n",
    "#server = 'hv-6066.idi.ntnu.no'\n",
    "\n",
    "port = '8080'\n",
    "base_url = 'http://' + server + ':' + port + '/'\n",
    "\n",
    "obj = mycbr(base_url)"
   ]
  },
  {
   "cell_type": "markdown",
   "metadata": {},
   "source": [
    "# Case Representation\n",
    "\n",
    "These methods show how to fetch an existing case representation from the APO \n",
    "Get the model contents: concept, attribute, attribute types"
   ]
  },
  {
   "cell_type": "code",
   "execution_count": 4,
   "metadata": {},
   "outputs": [],
   "source": [
    "def get_globalsim(concept):\n",
    "    raw = pd.DataFrame(requests.get(base_url + 'concepts/' + concept + '/amalgamationFunctions').json()) \n",
    "    global_sim = pd.DataFrame.from_records(raw).values.tolist()\n",
    "    return global_sim\n",
    "\n",
    "def get_attribute_value_range(concept, attribute):\n",
    "    raw = requests.get(base_url + 'concepts/' + concept + '/attributes/' + attribute).json()\n",
    "    value_range = json_normalize(raw).range\n",
    "    return value_range"
   ]
  },
  {
   "cell_type": "markdown",
   "metadata": {},
   "source": [
    "# Case Base\n",
    "Get the model contents: concept, casebase, attribute, attribute types"
   ]
  },
  {
   "cell_type": "code",
   "execution_count": 5,
   "metadata": {},
   "outputs": [],
   "source": [
    "def get_casebases():\n",
    "    raw = pd.DataFrame(requests.get(base_url + 'casebase/').json()) \n",
    "    casebases = pd.DataFrame.from_records(raw).values.tolist()\n",
    "    return casebases\n",
    "\n",
    "def get_instances(concept, casebase):\n",
    "    raw = pd.DataFrame(requests.get(base_url + 'concepts/' + concept + '/casebases/' + casebase + '/cases').json()) \n",
    "    instances = raw.apply(pd.to_numeric, errors='coerce').fillna(raw)\n",
    "    return instances"
   ]
  },
  {
   "cell_type": "markdown",
   "metadata": {},
   "source": [
    "# Convenience Functions\n",
    "- Create plots for case base content"
   ]
  },
  {
   "cell_type": "code",
   "execution_count": 6,
   "metadata": {},
   "outputs": [],
   "source": [
    "def plot_numeric(data, attribute):\n",
    "    ax = sns.distplot(data[attribute].astype(int), rug=True, hist=True, kde=False)\n",
    "    ax.set(xlabel=attribute, ylabel='Count', title=attribute + ' (mean: '+data[attribute].astype(int).mean().__str__()+')')\n",
    "\n",
    "def plot_symbolic(data, attribute):\n",
    "    ax = sns.countplot(x=attribute, data=data, order = data[attribute].value_counts().index)\n",
    "    ax.set(xlabel=attribute, ylabel='Dist', title=attribute)\n",
    "    ax.set_xticklabels(ax.get_xticklabels(), rotation=40, ha=\"right\")"
   ]
  },
  {
   "cell_type": "markdown",
   "metadata": {},
   "source": [
    "# Examples\n",
    "\n",
    "The following cells will show how the fetch the content and configuration of the CBR via the Rest API.\n"
   ]
  },
  {
   "cell_type": "code",
   "execution_count": 7,
   "metadata": {},
   "outputs": [
    {
     "data": {
      "text/plain": [
       "['car']"
      ]
     },
     "execution_count": 7,
     "metadata": {},
     "output_type": "execute_result"
    }
   ],
   "source": [
    "obj.getAllConcepts()"
   ]
  },
  {
   "cell_type": "code",
   "execution_count": 8,
   "metadata": {},
   "outputs": [
    {
     "data": {
      "text/plain": [
       "{'zip': 'IntegerDesc',\n",
       " 'door': 'IntegerDesc',\n",
       " 'code': 'IntegerDesc',\n",
       " 'color': 'SymbolDesc',\n",
       " 'year': 'IntegerDesc',\n",
       " 'mile': 'IntegerDesc',\n",
       " 'ccm': 'IntegerDesc',\n",
       " 'body': 'SymbolDesc',\n",
       " 'speed': 'IntegerDesc',\n",
       " 'manufacturer': 'SymbolDesc',\n",
       " 'price': 'FloatDesc',\n",
       " 'fule': 'SymbolDesc',\n",
       " 'model': 'SymbolDesc',\n",
       " 'power': 'IntegerDesc',\n",
       " 'id': 'IntegerDesc'}"
      ]
     },
     "execution_count": 8,
     "metadata": {},
     "output_type": "execute_result"
    }
   ],
   "source": [
    "obj.getAllAttributes()"
   ]
  },
  {
   "cell_type": "code",
   "execution_count": 9,
   "metadata": {},
   "outputs": [
    {
     "data": {
      "text/plain": [
       "['weighted_gsf', 'equal_weight_gsf']"
      ]
     },
     "execution_count": 9,
     "metadata": {},
     "output_type": "execute_result"
    }
   ],
   "source": [
    "obj.getAllAmalgamationFunctions()"
   ]
  },
  {
   "cell_type": "code",
   "execution_count": 10,
   "metadata": {},
   "outputs": [
    {
     "data": {
      "text/plain": [
       "0    [diesel, gasoline]\n",
       "Name: range, dtype: object"
      ]
     },
     "execution_count": 10,
     "metadata": {},
     "output_type": "execute_result"
    }
   ],
   "source": [
    "get_attribute_value_range('car', 'fule')  # returns the value range for an attribute (min/max for numbers; entire list for symbols)"
   ]
  },
  {
   "cell_type": "code",
   "execution_count": 11,
   "metadata": {},
   "outputs": [
    {
     "data": {
      "text/plain": [
       "['main_casebase']"
      ]
     },
     "execution_count": 11,
     "metadata": {},
     "output_type": "execute_result"
    }
   ],
   "source": [
    "obj.getCaseBaseIDs() # returns the list of existing case bases"
   ]
  },
  {
   "cell_type": "code",
   "execution_count": 12,
   "metadata": {},
   "outputs": [
    {
     "data": {
      "text/html": [
       "<div>\n",
       "<style scoped>\n",
       "    .dataframe tbody tr th:only-of-type {\n",
       "        vertical-align: middle;\n",
       "    }\n",
       "\n",
       "    .dataframe tbody tr th {\n",
       "        vertical-align: top;\n",
       "    }\n",
       "\n",
       "    .dataframe thead th {\n",
       "        text-align: right;\n",
       "    }\n",
       "</style>\n",
       "<table border=\"1\" class=\"dataframe\">\n",
       "  <thead>\n",
       "    <tr style=\"text-align: right;\">\n",
       "      <th></th>\n",
       "      <th>body</th>\n",
       "      <th>caseID</th>\n",
       "      <th>ccm</th>\n",
       "      <th>code</th>\n",
       "      <th>color</th>\n",
       "      <th>door</th>\n",
       "      <th>fule</th>\n",
       "      <th>id</th>\n",
       "      <th>manufacturer</th>\n",
       "      <th>mile</th>\n",
       "      <th>model</th>\n",
       "      <th>power</th>\n",
       "      <th>price</th>\n",
       "      <th>similarity</th>\n",
       "      <th>speed</th>\n",
       "      <th>year</th>\n",
       "      <th>zip</th>\n",
       "    </tr>\n",
       "  </thead>\n",
       "  <tbody>\n",
       "    <tr>\n",
       "      <th>0</th>\n",
       "      <td>station_wagon</td>\n",
       "      <td>car175</td>\n",
       "      <td>1800</td>\n",
       "      <td>685</td>\n",
       "      <td>light_gray;</td>\n",
       "      <td>5</td>\n",
       "      <td>gasoline</td>\n",
       "      <td>176</td>\n",
       "      <td>audi</td>\n",
       "      <td>15903</td>\n",
       "      <td>a4_1.8</td>\n",
       "      <td>125</td>\n",
       "      <td>38499</td>\n",
       "      <td>1</td>\n",
       "      <td>183</td>\n",
       "      <td>1996</td>\n",
       "      <td>3</td>\n",
       "    </tr>\n",
       "    <tr>\n",
       "      <th>1</th>\n",
       "      <td>sedan</td>\n",
       "      <td>car174</td>\n",
       "      <td>2400</td>\n",
       "      <td>562</td>\n",
       "      <td>orange;</td>\n",
       "      <td>4</td>\n",
       "      <td>gasoline</td>\n",
       "      <td>175</td>\n",
       "      <td>audi</td>\n",
       "      <td>34869</td>\n",
       "      <td>a6_2.4</td>\n",
       "      <td>165</td>\n",
       "      <td>43399</td>\n",
       "      <td>1</td>\n",
       "      <td>213</td>\n",
       "      <td>1996</td>\n",
       "      <td>2</td>\n",
       "    </tr>\n",
       "    <tr>\n",
       "      <th>2</th>\n",
       "      <td>fastback</td>\n",
       "      <td>car173</td>\n",
       "      <td>1800</td>\n",
       "      <td>437</td>\n",
       "      <td>turquoise;</td>\n",
       "      <td>2</td>\n",
       "      <td>gasoline</td>\n",
       "      <td>174</td>\n",
       "      <td>vw</td>\n",
       "      <td>101704</td>\n",
       "      <td>golf</td>\n",
       "      <td>60</td>\n",
       "      <td>10699</td>\n",
       "      <td>1</td>\n",
       "      <td>183</td>\n",
       "      <td>1995</td>\n",
       "      <td>6</td>\n",
       "    </tr>\n",
       "    <tr>\n",
       "      <th>3</th>\n",
       "      <td>station_wagon</td>\n",
       "      <td>car172</td>\n",
       "      <td>2800</td>\n",
       "      <td>187</td>\n",
       "      <td>white;</td>\n",
       "      <td>5</td>\n",
       "      <td>gasoline</td>\n",
       "      <td>173</td>\n",
       "      <td>bmw</td>\n",
       "      <td>60484</td>\n",
       "      <td>328i</td>\n",
       "      <td>193</td>\n",
       "      <td>34999</td>\n",
       "      <td>1</td>\n",
       "      <td>213</td>\n",
       "      <td>1995</td>\n",
       "      <td>5</td>\n",
       "    </tr>\n",
       "    <tr>\n",
       "      <th>4</th>\n",
       "      <td>fastback</td>\n",
       "      <td>car179</td>\n",
       "      <td>1600</td>\n",
       "      <td>695</td>\n",
       "      <td>yellow;</td>\n",
       "      <td>2</td>\n",
       "      <td>gasoline</td>\n",
       "      <td>180</td>\n",
       "      <td>bmw</td>\n",
       "      <td>9975</td>\n",
       "      <td>316i</td>\n",
       "      <td>102</td>\n",
       "      <td>36799</td>\n",
       "      <td>1</td>\n",
       "      <td>183</td>\n",
       "      <td>1997</td>\n",
       "      <td>1</td>\n",
       "    </tr>\n",
       "  </tbody>\n",
       "</table>\n",
       "</div>"
      ],
      "text/plain": [
       "            body  caseID   ccm  code        color  door      fule   id  \\\n",
       "0  station_wagon  car175  1800   685  light_gray;     5  gasoline  176   \n",
       "1          sedan  car174  2400   562      orange;     4  gasoline  175   \n",
       "2       fastback  car173  1800   437   turquoise;     2  gasoline  174   \n",
       "3  station_wagon  car172  2800   187       white;     5  gasoline  173   \n",
       "4       fastback  car179  1600   695      yellow;     2  gasoline  180   \n",
       "\n",
       "  manufacturer    mile   model  power  price  similarity  speed  year  zip  \n",
       "0         audi   15903  a4_1.8    125  38499           1    183  1996    3  \n",
       "1         audi   34869  a6_2.4    165  43399           1    213  1996    2  \n",
       "2           vw  101704    golf     60  10699           1    183  1995    6  \n",
       "3          bmw   60484    328i    193  34999           1    213  1995    5  \n",
       "4          bmw    9975    316i    102  36799           1    183  1997    1  "
      ]
     },
     "execution_count": 12,
     "metadata": {},
     "output_type": "execute_result"
    }
   ],
   "source": [
    "get_instances('car','main_casebase').head() # returns the contents of the case base"
   ]
  },
  {
   "cell_type": "code",
   "execution_count": 13,
   "metadata": {},
   "outputs": [
    {
     "data": {
      "image/png": "[encoded data removed]",
      "text/plain": [
       "<Figure size 864x288 with 1 Axes>"
      ]
     },
     "metadata": {
      "needs_background": "light"
     },
     "output_type": "display_data"
    }
   ],
   "source": [
    "plt.rcParams[\"figure.figsize\"] = (12, 4)\n",
    "plot_symbolic(get_instances('car','main_casebase'), 'manufacturer')"
   ]
  },
  {
   "cell_type": "code",
   "execution_count": 14,
   "metadata": {},
   "outputs": [
    {
     "data": {
      "image/png": "[encoded data removed]",
      "text/plain": [
       "<Figure size 576x288 with 1 Axes>"
      ]
     },
     "metadata": {
      "needs_background": "light"
     },
     "output_type": "display_data"
    }
   ],
   "source": [
    "plt.rcParams[\"figure.figsize\"] = (8, 4)\n",
    "plot_numeric(get_instances('car','main_casebase'), 'ccm')"
   ]
  },
  {
   "cell_type": "markdown",
   "metadata": {},
   "source": [
    "# Retrieval functions & visualizations\n",
    "Example retrieval function that serve different purposes\n",
    "- retrieve_k_sim_byID: This function uses the retrievalByID endpoint where a queryID is given (together with concept name, casebase name and k number of cases to be returned)"
   ]
  },
  {
   "cell_type": "code",
   "execution_count": 85,
   "metadata": {},
   "outputs": [],
   "source": [
    "def retrieve_k_sim_byID(concept, casebase, amalgamationFct, queryID, k):\n",
    "    raw = requests.get(base_url + 'concepts/' + concept + '/casebases/' + casebase + '/amalgamationFunctions/' + amalgamationFct +'/retrievalByCaseID?caseID=' + queryID + '&k=' + k ).json()\n",
    "    results = pd.DataFrame.from_dict(raw.items())\n",
    "    results.columns = ['caseID', 'similarity']\n",
    "    results = results.apply(pd.to_numeric, errors='coerce').fillna(results).sort_values(by='similarity', ascending=False)\n",
    "    return results\n",
    "\n",
    "def plot_retrieve_k_sim_byID(data):\n",
    "    plt.xticks(rotation=35)\n",
    "    ax = sns.barplot(x='caseID', y=\"similarity\", data=data)\n",
    "    \n",
    "def retrieve_k_sim_byID_content(concept, casebase, amalFct, queryID, k):\n",
    "    raw = pd.DataFrame(requests.get(base_url + 'concepts/' + concept + '/casebases/' + casebase + '/amalgamationFunctions/' + amalFct + '/retrievalByCaseIDWithContent?caseID=' + queryID + '&k=' + k).json()) \n",
    "    results = raw.apply(pd.to_numeric, errors='coerce').fillna(raw).sort_values(by='similarity', ascending=False)\n",
    "    results['similarity'] = results['similarity'].astype(float)\n",
    "    returned_df = results.apply(pd.to_numeric, errors='coerce').fillna(results)\n",
    "    return results\n",
    "\n",
    "def plot_retrieved_scatter(data, x_attr):\n",
    "    plt.xticks(rotation=35)\n",
    "    ax = sns.scatterplot(x=x_attr, y='similarity', data=data)\n",
    "\n"
   ]
  },
  {
   "cell_type": "markdown",
   "metadata": {},
   "source": [
    "# Retrieval Examples"
   ]
  },
  {
   "cell_type": "code",
   "execution_count": 78,
   "metadata": {},
   "outputs": [
    {
     "data": {
      "text/html": [
       "<div>\n",
       "<style scoped>\n",
       "    .dataframe tbody tr th:only-of-type {\n",
       "        vertical-align: middle;\n",
       "    }\n",
       "\n",
       "    .dataframe tbody tr th {\n",
       "        vertical-align: top;\n",
       "    }\n",
       "\n",
       "    .dataframe thead th {\n",
       "        text-align: right;\n",
       "    }\n",
       "</style>\n",
       "<table border=\"1\" class=\"dataframe\">\n",
       "  <thead>\n",
       "    <tr style=\"text-align: right;\">\n",
       "      <th></th>\n",
       "      <th>caseID</th>\n",
       "      <th>similarity</th>\n",
       "    </tr>\n",
       "  </thead>\n",
       "  <tbody>\n",
       "    <tr>\n",
       "      <th>0</th>\n",
       "      <td>car175</td>\n",
       "      <td>1</td>\n",
       "    </tr>\n",
       "    <tr>\n",
       "      <th>1</th>\n",
       "      <td>car771</td>\n",
       "      <td>0.937041</td>\n",
       "    </tr>\n",
       "    <tr>\n",
       "      <th>2</th>\n",
       "      <td>car188</td>\n",
       "      <td>0.936184</td>\n",
       "    </tr>\n",
       "    <tr>\n",
       "      <th>3</th>\n",
       "      <td>car659</td>\n",
       "      <td>0.933267</td>\n",
       "    </tr>\n",
       "    <tr>\n",
       "      <th>4</th>\n",
       "      <td>car446</td>\n",
       "      <td>0.930947</td>\n",
       "    </tr>\n",
       "    <tr>\n",
       "      <th>5</th>\n",
       "      <td>car836</td>\n",
       "      <td>0.924294</td>\n",
       "    </tr>\n",
       "    <tr>\n",
       "      <th>6</th>\n",
       "      <td>car566</td>\n",
       "      <td>0.909969</td>\n",
       "    </tr>\n",
       "    <tr>\n",
       "      <th>7</th>\n",
       "      <td>car568</td>\n",
       "      <td>0.904245</td>\n",
       "    </tr>\n",
       "    <tr>\n",
       "      <th>8</th>\n",
       "      <td>car620</td>\n",
       "      <td>0.902016</td>\n",
       "    </tr>\n",
       "    <tr>\n",
       "      <th>9</th>\n",
       "      <td>car120</td>\n",
       "      <td>0.900088</td>\n",
       "    </tr>\n",
       "  </tbody>\n",
       "</table>\n",
       "</div>"
      ],
      "text/plain": [
       "   caseID similarity\n",
       "0  car175          1\n",
       "1  car771   0.937041\n",
       "2  car188   0.936184\n",
       "3  car659   0.933267\n",
       "4  car446   0.930947\n",
       "5  car836   0.924294\n",
       "6  car566   0.909969\n",
       "7  car568   0.904245\n",
       "8  car620   0.902016\n",
       "9  car120   0.900088"
      ]
     },
     "execution_count": 78,
     "metadata": {},
     "output_type": "execute_result"
    }
   ],
   "source": [
    "# Find most similar cases \n",
    "result_caseIDs = retrieve_k_sim_byID('car', 'main_casebase', 'weighted_gsf', 'car175', '60')\n",
    "result_caseIDs.head(10)"
   ]
  },
  {
   "cell_type": "code",
   "execution_count": 79,
   "metadata": {},
   "outputs": [
    {
     "data": {
      "image/png": "[encoded data removed]",
      "text/plain": [
       "<Figure size 2160x288 with 1 Axes>"
      ]
     },
     "metadata": {
      "needs_background": "light"
     },
     "output_type": "display_data"
    }
   ],
   "source": [
    "# Plot most similar cases - this requires result_caseIDs from the previous cell (called retrieve_k_sim_byID(..))\n",
    "plt.rcParams[\"figure.figsize\"] = (30, 4)\n",
    "plot_retrieve_k_sim_byID(result_caseIDs)"
   ]
  },
  {
   "cell_type": "code",
   "execution_count": 86,
   "metadata": {},
   "outputs": [
    {
     "name": "stdout",
     "output_type": "stream",
     "text": [
      "<class 'pandas.core.frame.DataFrame'>\n",
      "Int64Index: 70 entries, 0 to 69\n",
      "Data columns (total 17 columns):\n",
      "body            70 non-null object\n",
      "caseID          70 non-null object\n",
      "ccm             70 non-null int64\n",
      "code            70 non-null int64\n",
      "color           70 non-null object\n",
      "door            70 non-null int64\n",
      "fule            70 non-null object\n",
      "id              70 non-null int64\n",
      "manufacturer    70 non-null object\n",
      "mile            70 non-null int64\n",
      "model           70 non-null object\n",
      "power           70 non-null int64\n",
      "price           70 non-null int64\n",
      "similarity      70 non-null float64\n",
      "speed           70 non-null int64\n",
      "year            70 non-null int64\n",
      "zip             70 non-null int64\n",
      "dtypes: float64(1), int64(10), object(6)\n",
      "memory usage: 9.8+ KB\n"
     ]
    }
   ],
   "source": [
    "# Find most similar cases and get the full case content for them\n",
    "result_fullCases = retrieve_k_sim_byID_content('car', 'main_casebase', 'weighted_gsf', 'car175', '70')\n",
    "result_fullCases.info()"
   ]
  },
  {
   "cell_type": "code",
   "execution_count": 88,
   "metadata": {},
   "outputs": [
    {
     "data": {
      "image/png": "[encoded data removed]",
      "text/plain": [
       "<Figure size 288x288 with 1 Axes>"
      ]
     },
     "metadata": {
      "needs_background": "light"
     },
     "output_type": "display_data"
    }
   ],
   "source": [
    "def plot_retrieved_scatter(data, x_attr):\n",
    "    plt.xticks(rotation=35)\n",
    "    ax = sns.scatterplot(x=x_attr, y='similarity', data=data)\n",
    "    \n",
    "# Create a scatter plot showing the similarity vs. a specified attribute\n",
    "plt.rcParams[\"figure.figsize\"] = (4, 4)\n",
    "plot_retrieved_scatter(result_fullCases, 'year')"
   ]
  },
  {
   "cell_type": "code",
   "execution_count": 90,
   "metadata": {},
   "outputs": [
    {
     "data": {
      "image/png": "[encoded data removed]",
      "text/plain": [
       "<Figure size 1728x720 with 8 Axes>"
      ]
     },
     "metadata": {
      "needs_background": "light"
     },
     "output_type": "display_data"
    }
   ],
   "source": [
    "fig = plt.figure(figsize=(24,10))\n",
    "\n",
    "plt.subplot(2, 4, 1)\n",
    "plot_retrieved_scatter(result_fullCases, 'body')\n",
    "\n",
    "plt.subplot(2, 4, 2)\n",
    "plot_retrieved_scatter(result_fullCases, 'ccm')\n",
    "\n",
    "plt.subplot(2, 4, 3)\n",
    "plot_retrieved_scatter(result_fullCases, 'color')\n",
    "\n",
    "plt.subplot(2, 4, 4)\n",
    "plot_retrieved_scatter(result_fullCases, 'speed')\n",
    "\n",
    "plt.subplot(2, 4, 5)\n",
    "plot_retrieved_scatter(result_fullCases, 'fule')\n",
    "\n",
    "plt.subplot(2, 4, 6)\n",
    "plot_retrieved_scatter(result_fullCases, 'manufacturer')\n",
    "\n",
    "plt.subplot(2, 4, 7)\n",
    "plot_retrieved_scatter(result_fullCases, 'power')\n",
    "\n",
    "plt.subplot(2, 4, 8)\n",
    "plot_retrieved_scatter(result_fullCases, 'price')\n",
    "\n",
    "plt.show()"
   ]
  },
  {
   "cell_type": "markdown",
   "metadata": {},
   "source": []
  },
  {
   "cell_type": "code",
   "execution_count": null,
   "metadata": {},
   "outputs": [],
   "source": []
  },
  {
   "cell_type": "markdown",
   "metadata": {},
   "source": []
  },
  {
   "cell_type": "code",
   "execution_count": null,
   "metadata": {},
   "outputs": [],
   "source": []
  },
  {
   "cell_type": "markdown",
   "metadata": {},
   "source": []
  },
  {
   "cell_type": "code",
   "execution_count": null,
   "metadata": {},
   "outputs": [],
   "source": []
  },
  {
   "cell_type": "code",
   "execution_count": null,
   "metadata": {},
   "outputs": [],
   "source": []
  },
  {
   "cell_type": "code",
   "execution_count": null,
   "metadata": {},
   "outputs": [],
   "source": []
  },
  {
   "cell_type": "code",
   "execution_count": null,
   "metadata": {},
   "outputs": [],
   "source": []
  },
  {
   "cell_type": "code",
   "execution_count": null,
   "metadata": {},
   "outputs": [],
   "source": []
  }
 ],
 "metadata": {
  "kernelspec": {
   "display_name": "Python 3",
   "language": "python",
   "name": "python3"
  },
  "language_info": {
   "codemirror_mode": {
    "name": "ipython",
    "version": 3
   },
   "file_extension": ".py",
   "mimetype": "text/x-python",
   "name": "python",
   "nbconvert_exporter": "python",
   "pygments_lexer": "ipython3",
   "version": "3.6.9"
  }
 },
 "nbformat": 4,
 "nbformat_minor": 4
}
