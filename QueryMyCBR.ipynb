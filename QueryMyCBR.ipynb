{
 "cells": [
  {
   "cell_type": "code",
   "execution_count": null,
   "metadata": {},
   "outputs": [],
   "source": [
    "# Render our plots inline\n",
    "%matplotlib inline\n",
    "\n",
    "from requests import get\n",
    "import requests\n",
    "import pandas as pd\n",
    "import numpy as np\n",
    "import seaborn as sns\n",
    "import matplotlib.pyplot as plt\n",
    "import datetime\n",
    "\n",
    "from pandas.io.json import json_normalize"
   ]
  },
  {
   "cell_type": "markdown",
   "metadata": {},
   "source": [
    "Basic settings"
   ]
  },
  {
   "cell_type": "code",
   "execution_count": null,
   "metadata": {},
   "outputs": [],
   "source": [
    "url = 'http://localhost:8080/'"
   ]
  },
  {
   "cell_type": "markdown",
   "metadata": {},
   "source": [
    "Get the model contents: concept, casebase, attribute, attribute types"
   ]
  },
  {
   "cell_type": "code",
   "execution_count": null,
   "metadata": {},
   "outputs": [],
   "source": [
    "def get_casebases():\n",
    "    raw = pd.DataFrame(requests.get(url + 'casebase/').json()) \n",
    "    casebases = pd.DataFrame.from_records(raw).values.tolist()\n",
    "    return casebases\n",
    "\n",
    "def get_concepts():\n",
    "    raw = pd.DataFrame(requests.get(url + 'concepts/').json()) \n",
    "    concepts = pd.DataFrame.from_records(raw).values.tolist()\n",
    "    return concepts\n",
    "\n",
    "def get_globalsim(concept):\n",
    "    raw = pd.DataFrame(requests.get(url + 'concepts/' + concept + '/amalgamationFunctions').json()) \n",
    "    global_sim = pd.DataFrame.from_records(raw).values.tolist()\n",
    "    return global_sim\n",
    "\n",
    "def get_attributes(concept):\n",
    "    raw = pd.DataFrame(requests.get(url + 'concepts/' + concept + '/attributes').json()) \n",
    "    attributes = pd.DataFrame(raw).reset_index()\n",
    "    attributes.columns = ['name', 'type']\n",
    "    return attributes\n",
    "\n",
    "def get_instances(concept, casebase):\n",
    "    raw = pd.DataFrame(requests.get(url + 'concepts/' + concept + '/casebases/' + casebase + '/instances').json()) \n",
    "    instances = raw.apply(pd.to_numeric, errors='coerce').fillna(raw)\n",
    "    return instances"
   ]
  },
  {
   "cell_type": "code",
   "execution_count": null,
   "metadata": {},
   "outputs": [],
   "source": [
    "def plot_numeric(data, attribute):\n",
    "    ax = sns.distplot(data[attribute].astype(int), rug=True, hist=True, kde=False)\n",
    "    ax.set(xlabel=attribute, ylabel='Count', title=attribute + ' (mean: '+data[attribute].astype(int).mean().__str__()+')')\n",
    "\n",
    "def plot_symbolic(data, attribute):\n",
    "    ax = sns.countplot(x=attribute, data=data)\n",
    "    ax.set(xlabel=attribute, ylabel='Dist', title=attribute)"
   ]
  },
  {
   "cell_type": "code",
   "execution_count": null,
   "metadata": {},
   "outputs": [],
   "source": [
    "get_concepts()\n",
    "get_casebases()\n",
    "get_instances('Car','CaseBase0').head()\n",
    "#get_globalsim('Car')\n",
    "#get_attributes('Car')"
   ]
  },
  {
   "cell_type": "code",
   "execution_count": null,
   "metadata": {},
   "outputs": [],
   "source": [
    "plot_symbolic(get_instances('Car','CaseBase0'), 'Color')"
   ]
  },
  {
   "cell_type": "code",
   "execution_count": null,
   "metadata": {},
   "outputs": [],
   "source": [
    "plot_numeric(get_instances('Car','CaseBase0'), 'Miles')"
   ]
  },
  {
   "cell_type": "markdown",
   "metadata": {},
   "source": [
    "Retrieval"
   ]
  },
  {
   "cell_type": "code",
   "execution_count": null,
   "metadata": {},
   "outputs": [],
   "source": [
    "def retrieve_k_sim(concept, casebase, queryID, k):\n",
    "    raw = pd.DataFrame(requests.get(url + 'concepts/' + concept + '/casebases/' + casebase + '/retrievalByID?caseID=' + queryID + '&k=' + k ).json()) \n",
    "    results = raw.apply(pd.to_numeric, errors='coerce').fillna(raw).sort_values(by='similarCases', ascending=False)\n",
    "    return results\n",
    "\n",
    "retrieve_k_sim('Car', 'CaseBase0', '441_audi', '5')"
   ]
  },
  {
   "cell_type": "code",
   "execution_count": null,
   "metadata": {},
   "outputs": [],
   "source": []
  }
 ],
 "metadata": {
  "kernelspec": {
   "display_name": "Python 3",
   "language": "python",
   "name": "python3"
  },
  "language_info": {
   "codemirror_mode": {
    "name": "ipython",
    "version": 3
   },
   "file_extension": ".py",
   "mimetype": "text/x-python",
   "name": "python",
   "nbconvert_exporter": "python",
   "pygments_lexer": "ipython3",
   "version": "3.6.5"
  }
 },
 "nbformat": 4,
 "nbformat_minor": 2
}
