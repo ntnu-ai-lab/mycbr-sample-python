{
 "cells": [
  {
   "cell_type": "code",
   "execution_count": 270,
   "metadata": {},
   "outputs": [],
   "source": [
    "# Render our plots inline\n",
    "%matplotlib inline\n",
    "\n",
    "from requests import get\n",
    "import requests\n",
    "import pandas as pd\n",
    "import numpy as np\n",
    "import seaborn as sns\n",
    "import matplotlib.pyplot as plt\n",
    "import datetime\n",
    "\n",
    "from pandas.io.json import json_normalize"
   ]
  },
  {
   "cell_type": "markdown",
   "metadata": {},
   "source": [
    "# Basic Settings\n",
    "Here you need to specify where the API is running. The default port is 8080, so if you only change the machine, specify it's name in \"server\""
   ]
  },
  {
   "cell_type": "code",
   "execution_count": 450,
   "metadata": {},
   "outputs": [],
   "source": [
    "#server = 'localhost'\n",
    "server = 'hv-6066.idi.ntnu.no'\n",
    "\n",
    "port = '8080'\n",
    "url = 'http://' + server + ':' + port + '/'"
   ]
  },
  {
   "cell_type": "markdown",
   "metadata": {},
   "source": [
    "# Case Representation\n",
    "\n",
    "These methods show how to fetch an existing case representation from the APO \n",
    "Get the model contents: concept, attribute, attribute types"
   ]
  },
  {
   "cell_type": "code",
   "execution_count": 272,
   "metadata": {},
   "outputs": [],
   "source": [
    "def get_concepts():\n",
    "    raw = pd.DataFrame(requests.get(url + 'concepts/').json()) \n",
    "    concepts = pd.DataFrame.from_records(raw).values.tolist()\n",
    "    return concepts\n",
    "\n",
    "def get_globalsim(concept):\n",
    "    raw = pd.DataFrame(requests.get(url + 'concepts/' + concept + '/amalgamationFunctions').json()) \n",
    "    global_sim = pd.DataFrame.from_records(raw).values.tolist()\n",
    "    return global_sim\n",
    "\n",
    "def get_attributes(concept):\n",
    "    raw = pd.DataFrame(requests.get(url + 'concepts/' + concept + '/attributes').json()) \n",
    "    attributes = pd.DataFrame(raw).reset_index()\n",
    "    attributes.columns = ['name', 'type']\n",
    "    return attributes\n",
    "\n",
    "def get_attribute_value_range(concept, attribute):\n",
    "    raw = pd.DataFrame(requests.get(url + 'values?attribute%20name=' + attribute + '&concept%20name=' + concept).json()) \n",
    "    value_range = pd.Series.tolist(pd.DataFrame(raw).iloc[0])\n",
    "    return value_range"
   ]
  },
  {
   "cell_type": "markdown",
   "metadata": {},
   "source": [
    "# Case Base\n",
    "Get the model contents: concept, casebase, attribute, attribute types"
   ]
  },
  {
   "cell_type": "code",
   "execution_count": 273,
   "metadata": {},
   "outputs": [],
   "source": [
    "def get_casebases():\n",
    "    raw = pd.DataFrame(requests.get(url + 'casebase/').json()) \n",
    "    casebases = pd.DataFrame.from_records(raw).values.tolist()\n",
    "    return casebases\n",
    "\n",
    "def get_instances(concept, casebase):\n",
    "    raw = pd.DataFrame(requests.get(url + 'concepts/' + concept + '/casebases/' + casebase + '/instances').json()) \n",
    "    instances = raw.apply(pd.to_numeric, errors='coerce').fillna(raw)\n",
    "    return instances"
   ]
  },
  {
   "cell_type": "markdown",
   "metadata": {},
   "source": [
    "# Convenience Functions\n",
    "- Create plots for case base content"
   ]
  },
  {
   "cell_type": "code",
   "execution_count": 274,
   "metadata": {},
   "outputs": [],
   "source": [
    "def plot_numeric(data, attribute):\n",
    "    ax = sns.distplot(data[attribute].astype(int), rug=True, hist=True, kde=False)\n",
    "    ax.set(xlabel=attribute, ylabel='Count', title=attribute + ' (mean: '+data[attribute].astype(int).mean().__str__()+')')\n",
    "\n",
    "def plot_symbolic(data, attribute):\n",
    "    ax = sns.countplot(x=attribute, data=data, order = data[attribute].value_counts().index)\n",
    "    ax.set(xlabel=attribute, ylabel='Dist', title=attribute)\n",
    "    ax.set_xticklabels(ax.get_xticklabels(), rotation=40, ha=\"right\")"
   ]
  },
  {
   "cell_type": "markdown",
   "metadata": {},
   "source": [
    "# Examples\n",
    "\n",
    "The following cells will show how the fetch the content and configuration of the CBR via the Rest API.\n"
   ]
  },
  {
   "cell_type": "code",
   "execution_count": 275,
   "metadata": {},
   "outputs": [
    {
     "data": {
      "text/plain": [
       "[['Car']]"
      ]
     },
     "execution_count": 275,
     "metadata": {},
     "output_type": "execute_result"
    }
   ],
   "source": [
    "get_concepts() # returns the list of concepts existing in the CBR system"
   ]
  },
  {
   "cell_type": "code",
   "execution_count": 276,
   "metadata": {},
   "outputs": [
    {
     "data": {
      "text/html": [
       "<div>\n",
       "<style scoped>\n",
       "    .dataframe tbody tr th:only-of-type {\n",
       "        vertical-align: middle;\n",
       "    }\n",
       "\n",
       "    .dataframe tbody tr th {\n",
       "        vertical-align: top;\n",
       "    }\n",
       "\n",
       "    .dataframe thead th {\n",
       "        text-align: right;\n",
       "    }\n",
       "</style>\n",
       "<table border=\"1\" class=\"dataframe\">\n",
       "  <thead>\n",
       "    <tr style=\"text-align: right;\">\n",
       "      <th></th>\n",
       "      <th>name</th>\n",
       "      <th>type</th>\n",
       "    </tr>\n",
       "  </thead>\n",
       "  <tbody>\n",
       "    <tr>\n",
       "      <th>0</th>\n",
       "      <td>Body</td>\n",
       "      <td>SymbolDesc</td>\n",
       "    </tr>\n",
       "    <tr>\n",
       "      <th>1</th>\n",
       "      <td>CCM</td>\n",
       "      <td>IntegerDesc</td>\n",
       "    </tr>\n",
       "    <tr>\n",
       "      <th>2</th>\n",
       "      <td>Car Code</td>\n",
       "      <td>IntegerDesc</td>\n",
       "    </tr>\n",
       "    <tr>\n",
       "      <th>3</th>\n",
       "      <td>Color</td>\n",
       "      <td>SymbolDesc</td>\n",
       "    </tr>\n",
       "    <tr>\n",
       "      <th>4</th>\n",
       "      <td>Doors</td>\n",
       "      <td>IntegerDesc</td>\n",
       "    </tr>\n",
       "    <tr>\n",
       "      <th>5</th>\n",
       "      <td>Gas</td>\n",
       "      <td>SymbolDesc</td>\n",
       "    </tr>\n",
       "    <tr>\n",
       "      <th>6</th>\n",
       "      <td>Manufacturer</td>\n",
       "      <td>SymbolDesc</td>\n",
       "    </tr>\n",
       "    <tr>\n",
       "      <th>7</th>\n",
       "      <td>Miles</td>\n",
       "      <td>IntegerDesc</td>\n",
       "    </tr>\n",
       "    <tr>\n",
       "      <th>8</th>\n",
       "      <td>Model</td>\n",
       "      <td>SymbolDesc</td>\n",
       "    </tr>\n",
       "    <tr>\n",
       "      <th>9</th>\n",
       "      <td>Power</td>\n",
       "      <td>IntegerDesc</td>\n",
       "    </tr>\n",
       "    <tr>\n",
       "      <th>10</th>\n",
       "      <td>Price</td>\n",
       "      <td>FloatDesc</td>\n",
       "    </tr>\n",
       "    <tr>\n",
       "      <th>11</th>\n",
       "      <td>Speed</td>\n",
       "      <td>IntegerDesc</td>\n",
       "    </tr>\n",
       "    <tr>\n",
       "      <th>12</th>\n",
       "      <td>Year</td>\n",
       "      <td>IntegerDesc</td>\n",
       "    </tr>\n",
       "    <tr>\n",
       "      <th>13</th>\n",
       "      <td>ZIP</td>\n",
       "      <td>IntegerDesc</td>\n",
       "    </tr>\n",
       "  </tbody>\n",
       "</table>\n",
       "</div>"
      ],
      "text/plain": [
       "            name         type\n",
       "0           Body   SymbolDesc\n",
       "1            CCM  IntegerDesc\n",
       "2       Car Code  IntegerDesc\n",
       "3          Color   SymbolDesc\n",
       "4          Doors  IntegerDesc\n",
       "5            Gas   SymbolDesc\n",
       "6   Manufacturer   SymbolDesc\n",
       "7          Miles  IntegerDesc\n",
       "8          Model   SymbolDesc\n",
       "9          Power  IntegerDesc\n",
       "10         Price    FloatDesc\n",
       "11         Speed  IntegerDesc\n",
       "12          Year  IntegerDesc\n",
       "13           ZIP  IntegerDesc"
      ]
     },
     "execution_count": 276,
     "metadata": {},
     "output_type": "execute_result"
    }
   ],
   "source": [
    "get_attributes(get_concepts()[0][0]) # returns a dataframe of attribute names and their type existing in the CBR system"
   ]
  },
  {
   "cell_type": "code",
   "execution_count": 277,
   "metadata": {},
   "outputs": [
    {
     "data": {
      "text/plain": [
       "[['CarFunc']]"
      ]
     },
     "execution_count": 277,
     "metadata": {},
     "output_type": "execute_result"
    }
   ],
   "source": [
    "get_globalsim(get_concepts()[0][0]) # returns a list of names of existing global similarity functions"
   ]
  },
  {
   "cell_type": "code",
   "execution_count": 278,
   "metadata": {},
   "outputs": [
    {
     "data": {
      "text/plain": [
       "[[1.0, 100000.0]]"
      ]
     },
     "execution_count": 278,
     "metadata": {},
     "output_type": "execute_result"
    }
   ],
   "source": [
    "get_attribute_value_range('Car', 'Price')  # returns the value range for an attribute (min/max for numbers; entire list for symbols)"
   ]
  },
  {
   "cell_type": "code",
   "execution_count": 279,
   "metadata": {},
   "outputs": [
    {
     "data": {
      "text/plain": [
       "[['CaseBase0']]"
      ]
     },
     "execution_count": 279,
     "metadata": {},
     "output_type": "execute_result"
    }
   ],
   "source": [
    "get_casebases() # returns the list of existing case bases"
   ]
  },
  {
   "cell_type": "code",
   "execution_count": 280,
   "metadata": {},
   "outputs": [
    {
     "data": {
      "text/html": [
       "<div>\n",
       "<style scoped>\n",
       "    .dataframe tbody tr th:only-of-type {\n",
       "        vertical-align: middle;\n",
       "    }\n",
       "\n",
       "    .dataframe tbody tr th {\n",
       "        vertical-align: top;\n",
       "    }\n",
       "\n",
       "    .dataframe thead th {\n",
       "        text-align: right;\n",
       "    }\n",
       "</style>\n",
       "<table border=\"1\" class=\"dataframe\">\n",
       "  <thead>\n",
       "    <tr style=\"text-align: right;\">\n",
       "      <th></th>\n",
       "      <th>Body</th>\n",
       "      <th>CCM</th>\n",
       "      <th>Car Code</th>\n",
       "      <th>Color</th>\n",
       "      <th>Doors</th>\n",
       "      <th>Gas</th>\n",
       "      <th>Manufacturer</th>\n",
       "      <th>Miles</th>\n",
       "      <th>Model</th>\n",
       "      <th>Power</th>\n",
       "      <th>Price</th>\n",
       "      <th>Speed</th>\n",
       "      <th>Year</th>\n",
       "      <th>ZIP</th>\n",
       "      <th>caseID</th>\n",
       "      <th>similarity</th>\n",
       "    </tr>\n",
       "  </thead>\n",
       "  <tbody>\n",
       "    <tr>\n",
       "      <th>0</th>\n",
       "      <td>sedan</td>\n",
       "      <td>2800</td>\n",
       "      <td>441</td>\n",
       "      <td>violet</td>\n",
       "      <td>4</td>\n",
       "      <td>gasoline</td>\n",
       "      <td>audi</td>\n",
       "      <td>29897</td>\n",
       "      <td>a6_2.8</td>\n",
       "      <td>193</td>\n",
       "      <td>49899</td>\n",
       "      <td>213</td>\n",
       "      <td>1995</td>\n",
       "      <td>8</td>\n",
       "      <td>441_audi</td>\n",
       "      <td>1</td>\n",
       "    </tr>\n",
       "    <tr>\n",
       "      <th>1</th>\n",
       "      <td>station_wagon</td>\n",
       "      <td>1600</td>\n",
       "      <td>108</td>\n",
       "      <td>turquoise</td>\n",
       "      <td>5</td>\n",
       "      <td>gasoline</td>\n",
       "      <td>audi</td>\n",
       "      <td>43858</td>\n",
       "      <td>a4_1.6</td>\n",
       "      <td>101</td>\n",
       "      <td>24699</td>\n",
       "      <td>183</td>\n",
       "      <td>1994</td>\n",
       "      <td>8</td>\n",
       "      <td>108_audi</td>\n",
       "      <td>1</td>\n",
       "    </tr>\n",
       "    <tr>\n",
       "      <th>2</th>\n",
       "      <td>station_wagon</td>\n",
       "      <td>3200</td>\n",
       "      <td>931</td>\n",
       "      <td>gray</td>\n",
       "      <td>5</td>\n",
       "      <td>gasoline</td>\n",
       "      <td>mercedes-benz</td>\n",
       "      <td>32855</td>\n",
       "      <td>e_320</td>\n",
       "      <td>224</td>\n",
       "      <td>60799</td>\n",
       "      <td>241</td>\n",
       "      <td>1996</td>\n",
       "      <td>4</td>\n",
       "      <td>931_mercedes-benz</td>\n",
       "      <td>1</td>\n",
       "    </tr>\n",
       "    <tr>\n",
       "      <th>3</th>\n",
       "      <td>sedan</td>\n",
       "      <td>3000</td>\n",
       "      <td>100</td>\n",
       "      <td>yellow</td>\n",
       "      <td>4</td>\n",
       "      <td>diesel</td>\n",
       "      <td>mercedes-benz</td>\n",
       "      <td>18146</td>\n",
       "      <td>e_300_diesel</td>\n",
       "      <td>176</td>\n",
       "      <td>58499</td>\n",
       "      <td>224</td>\n",
       "      <td>1996</td>\n",
       "      <td>3</td>\n",
       "      <td>100_mercedes-benz</td>\n",
       "      <td>1</td>\n",
       "    </tr>\n",
       "    <tr>\n",
       "      <th>4</th>\n",
       "      <td>sedan</td>\n",
       "      <td>3500</td>\n",
       "      <td>223</td>\n",
       "      <td>dark_green</td>\n",
       "      <td>4</td>\n",
       "      <td>gasoline</td>\n",
       "      <td>bmw</td>\n",
       "      <td>24711</td>\n",
       "      <td>m3</td>\n",
       "      <td>320</td>\n",
       "      <td>73299</td>\n",
       "      <td>241</td>\n",
       "      <td>1997</td>\n",
       "      <td>2</td>\n",
       "      <td>223_bmw</td>\n",
       "      <td>1</td>\n",
       "    </tr>\n",
       "  </tbody>\n",
       "</table>\n",
       "</div>"
      ],
      "text/plain": [
       "            Body   CCM  Car Code       Color  Doors       Gas   Manufacturer  \\\n",
       "0          sedan  2800       441      violet      4  gasoline           audi   \n",
       "1  station_wagon  1600       108   turquoise      5  gasoline           audi   \n",
       "2  station_wagon  3200       931        gray      5  gasoline  mercedes-benz   \n",
       "3          sedan  3000       100      yellow      4    diesel  mercedes-benz   \n",
       "4          sedan  3500       223  dark_green      4  gasoline            bmw   \n",
       "\n",
       "   Miles         Model  Power  Price  Speed  Year  ZIP             caseID  \\\n",
       "0  29897        a6_2.8    193  49899    213  1995    8           441_audi   \n",
       "1  43858        a4_1.6    101  24699    183  1994    8           108_audi   \n",
       "2  32855         e_320    224  60799    241  1996    4  931_mercedes-benz   \n",
       "3  18146  e_300_diesel    176  58499    224  1996    3  100_mercedes-benz   \n",
       "4  24711            m3    320  73299    241  1997    2            223_bmw   \n",
       "\n",
       "   similarity  \n",
       "0           1  \n",
       "1           1  \n",
       "2           1  \n",
       "3           1  \n",
       "4           1  "
      ]
     },
     "execution_count": 280,
     "metadata": {},
     "output_type": "execute_result"
    }
   ],
   "source": [
    "get_instances('Car','CaseBase0').head() # returns the contents of the case base"
   ]
  },
  {
   "cell_type": "code",
   "execution_count": 281,
   "metadata": {},
   "outputs": [
    {
     "data": {
      "image/png": "[encoded data removed]",
      "text/plain": [
       "<Figure size 864x288 with 1 Axes>"
      ]
     },
     "metadata": {},
     "output_type": "display_data"
    }
   ],
   "source": [
    "plt.rcParams[\"figure.figsize\"] = (12, 4)\n",
    "plot_symbolic(get_instances('Car','CaseBase0'), 'Manufacturer')"
   ]
  },
  {
   "cell_type": "code",
   "execution_count": 282,
   "metadata": {},
   "outputs": [
    {
     "data": {
      "image/png": "[encoded data removed]",
      "text/plain": [
       "<Figure size 576x288 with 1 Axes>"
      ]
     },
     "metadata": {},
     "output_type": "display_data"
    }
   ],
   "source": [
    "plt.rcParams[\"figure.figsize\"] = (8, 4)\n",
    "plot_numeric(get_instances('Car','CaseBase0'), 'CCM')"
   ]
  },
  {
   "cell_type": "markdown",
   "metadata": {},
   "source": [
    "# Retrieval functions & visualizations\n",
    "Example retrieval function that serve different purposes\n",
    "- retrieve_k_sim_byID: This function uses the retrievalByID endpoint where a queryID is given (together with concept name, casebase name and k number of cases to be returned)"
   ]
  },
  {
   "cell_type": "code",
   "execution_count": 283,
   "metadata": {},
   "outputs": [],
   "source": [
    "def retrieve_k_sim_byID(concept, casebase, queryID, k):\n",
    "    raw = pd.DataFrame(requests.get(url + 'concepts/' + concept + '/casebases/' + casebase + '/retrievalByID?caseID=' + queryID + '&k=' + k ).json()) \n",
    "    results = raw.apply(pd.to_numeric, errors='coerce').fillna(raw).sort_values(by='similarCases', ascending=False)\n",
    "    return results\n",
    "\n",
    "def plot_retrieve_k_sim_byID(data):\n",
    "    plt.xticks(rotation=35)\n",
    "    ax = sns.barplot(x=data.index, y=\"similarCases\", data=data)\n",
    "    \n",
    "def retrieve_k_sim_byID_content(concept, casebase, amalFct, queryID, k):\n",
    "    raw = pd.DataFrame(requests.get(url + 'concepts/' + concept + '/casebases/' + casebase + '/retrievalByIDWithContent?amalgamation%20function='+amalFct+'&caseID=' + queryID + '&k=' + k ).json()) \n",
    "    results = raw.apply(pd.to_numeric, errors='coerce').fillna(raw).sort_values(by='similarity', ascending=False)\n",
    "    returned_df = results.apply(pd.to_numeric, errors='coerce').fillna(results)\n",
    "    return returned_df\n",
    "\n",
    "def plot_retrieved_scatter(data, x_attr):\n",
    "    plt.xticks(rotation=35)\n",
    "    ax = sns.scatterplot(x=x_attr, y='similarity', data=data)\n",
    "\n"
   ]
  },
  {
   "cell_type": "markdown",
   "metadata": {},
   "source": [
    "# Retrieval Examples"
   ]
  },
  {
   "cell_type": "code",
   "execution_count": 310,
   "metadata": {},
   "outputs": [
    {
     "data": {
      "text/html": [
       "<div>\n",
       "<style scoped>\n",
       "    .dataframe tbody tr th:only-of-type {\n",
       "        vertical-align: middle;\n",
       "    }\n",
       "\n",
       "    .dataframe tbody tr th {\n",
       "        vertical-align: top;\n",
       "    }\n",
       "\n",
       "    .dataframe thead th {\n",
       "        text-align: right;\n",
       "    }\n",
       "</style>\n",
       "<table border=\"1\" class=\"dataframe\">\n",
       "  <thead>\n",
       "    <tr style=\"text-align: right;\">\n",
       "      <th></th>\n",
       "      <th>similarCases</th>\n",
       "    </tr>\n",
       "  </thead>\n",
       "  <tbody>\n",
       "    <tr>\n",
       "      <th>17_vw</th>\n",
       "      <td>1.000000</td>\n",
       "    </tr>\n",
       "    <tr>\n",
       "      <th>891_vw</th>\n",
       "      <td>0.658371</td>\n",
       "    </tr>\n",
       "    <tr>\n",
       "      <th>532_vw</th>\n",
       "      <td>0.658114</td>\n",
       "    </tr>\n",
       "    <tr>\n",
       "      <th>602_vw</th>\n",
       "      <td>0.632703</td>\n",
       "    </tr>\n",
       "    <tr>\n",
       "      <th>467_vw</th>\n",
       "      <td>0.632574</td>\n",
       "    </tr>\n",
       "    <tr>\n",
       "      <th>610_vw</th>\n",
       "      <td>0.599338</td>\n",
       "    </tr>\n",
       "    <tr>\n",
       "      <th>877_vw</th>\n",
       "      <td>0.599104</td>\n",
       "    </tr>\n",
       "    <tr>\n",
       "      <th>148_vw</th>\n",
       "      <td>0.593290</td>\n",
       "    </tr>\n",
       "    <tr>\n",
       "      <th>563_mercedes-benz</th>\n",
       "      <td>0.547150</td>\n",
       "    </tr>\n",
       "    <tr>\n",
       "      <th>173_vw</th>\n",
       "      <td>0.536384</td>\n",
       "    </tr>\n",
       "  </tbody>\n",
       "</table>\n",
       "</div>"
      ],
      "text/plain": [
       "                   similarCases\n",
       "17_vw                  1.000000\n",
       "891_vw                 0.658371\n",
       "532_vw                 0.658114\n",
       "602_vw                 0.632703\n",
       "467_vw                 0.632574\n",
       "610_vw                 0.599338\n",
       "877_vw                 0.599104\n",
       "148_vw                 0.593290\n",
       "563_mercedes-benz      0.547150\n",
       "173_vw                 0.536384"
      ]
     },
     "execution_count": 310,
     "metadata": {},
     "output_type": "execute_result"
    }
   ],
   "source": [
    "# Find most similar cases \n",
    "result_caseIDs = retrieve_k_sim_byID('Car', 'CaseBase0', '17_vw', '30')\n",
    "result_caseIDs.head(10)"
   ]
  },
  {
   "cell_type": "code",
   "execution_count": 311,
   "metadata": {},
   "outputs": [
    {
     "data": {
      "image/png": "[encoded data removed]",
      "text/plain": [
       "<Figure size 2160x288 with 1 Axes>"
      ]
     },
     "metadata": {},
     "output_type": "display_data"
    }
   ],
   "source": [
    "# Plot most similar cases - this requires result_caseIDs from the previous cell (called retrieve_k_sim_byID(..))\n",
    "plt.rcParams[\"figure.figsize\"] = (30, 4)\n",
    "plot_retrieve_k_sim_byID(result_caseIDs)"
   ]
  },
  {
   "cell_type": "code",
   "execution_count": 312,
   "metadata": {},
   "outputs": [
    {
     "data": {
      "text/html": [
       "<div>\n",
       "<style scoped>\n",
       "    .dataframe tbody tr th:only-of-type {\n",
       "        vertical-align: middle;\n",
       "    }\n",
       "\n",
       "    .dataframe tbody tr th {\n",
       "        vertical-align: top;\n",
       "    }\n",
       "\n",
       "    .dataframe thead th {\n",
       "        text-align: right;\n",
       "    }\n",
       "</style>\n",
       "<table border=\"1\" class=\"dataframe\">\n",
       "  <thead>\n",
       "    <tr style=\"text-align: right;\">\n",
       "      <th></th>\n",
       "      <th>Body</th>\n",
       "      <th>CCM</th>\n",
       "      <th>Car Code</th>\n",
       "      <th>Color</th>\n",
       "      <th>Doors</th>\n",
       "      <th>Gas</th>\n",
       "      <th>Manufacturer</th>\n",
       "      <th>Miles</th>\n",
       "      <th>Model</th>\n",
       "      <th>Power</th>\n",
       "      <th>Price</th>\n",
       "      <th>Speed</th>\n",
       "      <th>Year</th>\n",
       "      <th>ZIP</th>\n",
       "      <th>caseID</th>\n",
       "      <th>similarity</th>\n",
       "    </tr>\n",
       "  </thead>\n",
       "  <tbody>\n",
       "    <tr>\n",
       "      <th>0</th>\n",
       "      <td>sedan</td>\n",
       "      <td>1900</td>\n",
       "      <td>17</td>\n",
       "      <td>dark_blue</td>\n",
       "      <td>4</td>\n",
       "      <td>diesel</td>\n",
       "      <td>vw</td>\n",
       "      <td>71433</td>\n",
       "      <td>passat</td>\n",
       "      <td>90</td>\n",
       "      <td>22099</td>\n",
       "      <td>183</td>\n",
       "      <td>1995</td>\n",
       "      <td>6</td>\n",
       "      <td>17_vw</td>\n",
       "      <td>1</td>\n",
       "    </tr>\n",
       "    <tr>\n",
       "      <th>1</th>\n",
       "      <td>sedan</td>\n",
       "      <td>1900</td>\n",
       "      <td>891</td>\n",
       "      <td>blue</td>\n",
       "      <td>4</td>\n",
       "      <td>diesel</td>\n",
       "      <td>vw</td>\n",
       "      <td>68993</td>\n",
       "      <td>passat</td>\n",
       "      <td>110</td>\n",
       "      <td>23599</td>\n",
       "      <td>183</td>\n",
       "      <td>1995</td>\n",
       "      <td>2</td>\n",
       "      <td>891_vw</td>\n",
       "      <td>0.658371</td>\n",
       "    </tr>\n",
       "    <tr>\n",
       "      <th>2</th>\n",
       "      <td>sedan</td>\n",
       "      <td>1900</td>\n",
       "      <td>532</td>\n",
       "      <td>dark_blue</td>\n",
       "      <td>4</td>\n",
       "      <td>diesel</td>\n",
       "      <td>vw</td>\n",
       "      <td>13701</td>\n",
       "      <td>passat</td>\n",
       "      <td>90</td>\n",
       "      <td>33199</td>\n",
       "      <td>183</td>\n",
       "      <td>1996</td>\n",
       "      <td>3</td>\n",
       "      <td>532_vw</td>\n",
       "      <td>0.658114</td>\n",
       "    </tr>\n",
       "    <tr>\n",
       "      <th>3</th>\n",
       "      <td>sedan</td>\n",
       "      <td>1900</td>\n",
       "      <td>602</td>\n",
       "      <td>blue</td>\n",
       "      <td>4</td>\n",
       "      <td>gasoline</td>\n",
       "      <td>vw</td>\n",
       "      <td>80748</td>\n",
       "      <td>passat</td>\n",
       "      <td>193</td>\n",
       "      <td>26499</td>\n",
       "      <td>183</td>\n",
       "      <td>1996</td>\n",
       "      <td>1</td>\n",
       "      <td>602_vw</td>\n",
       "      <td>0.632703</td>\n",
       "    </tr>\n",
       "    <tr>\n",
       "      <th>4</th>\n",
       "      <td>sedan</td>\n",
       "      <td>1900</td>\n",
       "      <td>467</td>\n",
       "      <td>dark_blue</td>\n",
       "      <td>4</td>\n",
       "      <td>gasoline</td>\n",
       "      <td>vw</td>\n",
       "      <td>91911</td>\n",
       "      <td>passat</td>\n",
       "      <td>100</td>\n",
       "      <td>16699</td>\n",
       "      <td>183</td>\n",
       "      <td>1995</td>\n",
       "      <td>8</td>\n",
       "      <td>467_vw</td>\n",
       "      <td>0.632574</td>\n",
       "    </tr>\n",
       "  </tbody>\n",
       "</table>\n",
       "</div>"
      ],
      "text/plain": [
       "    Body   CCM  Car Code      Color  Doors       Gas Manufacturer  Miles  \\\n",
       "0  sedan  1900        17  dark_blue      4    diesel           vw  71433   \n",
       "1  sedan  1900       891       blue      4    diesel           vw  68993   \n",
       "2  sedan  1900       532  dark_blue      4    diesel           vw  13701   \n",
       "3  sedan  1900       602       blue      4  gasoline           vw  80748   \n",
       "4  sedan  1900       467  dark_blue      4  gasoline           vw  91911   \n",
       "\n",
       "    Model  Power  Price  Speed  Year  ZIP  caseID similarity  \n",
       "0  passat     90  22099    183  1995    6   17_vw          1  \n",
       "1  passat    110  23599    183  1995    2  891_vw   0.658371  \n",
       "2  passat     90  33199    183  1996    3  532_vw   0.658114  \n",
       "3  passat    193  26499    183  1996    1  602_vw   0.632703  \n",
       "4  passat    100  16699    183  1995    8  467_vw   0.632574  "
      ]
     },
     "execution_count": 312,
     "metadata": {},
     "output_type": "execute_result"
    }
   ],
   "source": [
    "# Find most similar cases and get the full case content for them\n",
    "result_fullCases = retrieve_k_sim_byID_content('Car', 'CaseBase0', 'CarFunc', '17_vw', '70')\n",
    "result_fullCases.head()"
   ]
  },
  {
   "cell_type": "code",
   "execution_count": 313,
   "metadata": {},
   "outputs": [
    {
     "data": {
      "image/png": "[encoded data removed]",
      "text/plain": [
       "<Figure size 288x288 with 1 Axes>"
      ]
     },
     "metadata": {},
     "output_type": "display_data"
    }
   ],
   "source": [
    "# Create a scatter plot showing the similarity vs. a specified attribute\n",
    "plt.rcParams[\"figure.figsize\"] = (4, 4)\n",
    "plot_retrieved_scatter(result_fullCases, 'Year')"
   ]
  },
  {
   "cell_type": "code",
   "execution_count": 314,
   "metadata": {},
   "outputs": [
    {
     "data": {
      "image/png": "[encoded data removed]",
      "text/plain": [
       "<Figure size 1728x720 with 8 Axes>"
      ]
     },
     "metadata": {},
     "output_type": "display_data"
    }
   ],
   "source": [
    "fig = plt.figure(figsize=(24,10))\n",
    "\n",
    "plt.subplot(2, 4, 1)\n",
    "plot_retrieved_scatter(result_fullCases, 'Body')\n",
    "\n",
    "plt.subplot(2, 4, 2)\n",
    "plot_retrieved_scatter(result_fullCases, 'CCM')\n",
    "\n",
    "plt.subplot(2, 4, 3)\n",
    "plot_retrieved_scatter(result_fullCases, 'Color')\n",
    "\n",
    "plt.subplot(2, 4, 4)\n",
    "plot_retrieved_scatter(result_fullCases, 'Speed')\n",
    "\n",
    "plt.subplot(2, 4, 5)\n",
    "plot_retrieved_scatter(result_fullCases, 'Gas')\n",
    "\n",
    "plt.subplot(2, 4, 6)\n",
    "plot_retrieved_scatter(result_fullCases, 'Manufacturer')\n",
    "\n",
    "plt.subplot(2, 4, 7)\n",
    "plot_retrieved_scatter(result_fullCases, 'Power')\n",
    "\n",
    "plt.subplot(2, 4, 8)\n",
    "plot_retrieved_scatter(result_fullCases, 'Price')\n",
    "\n",
    "plt.show()"
   ]
  },
  {
   "cell_type": "markdown",
   "metadata": {},
   "source": [
    "# Evaluation\n",
    "- Function to create Self-Similarity Matrix (ssm) where each case from the case base is queried and then put in a matrix\n",
    "- Function to compare a list of cases "
   ]
  },
  {
   "cell_type": "code",
   "execution_count": 370,
   "metadata": {},
   "outputs": [],
   "source": [
    "def create_ssm(concept, casebase, initital_caseID):\n",
    "    # set the initial ID to get an order of the if not specified (initital_caseID = -1) by getting all IDs and picking the first\n",
    "    if initital_caseID == -1:\n",
    "        all_caseIDs = pd.Series.tolist(get_instances(concept,casebase)['caseID'])  # get a list with all ids\n",
    "        initital_caseID = all_caseIDs[0] \n",
    "\n",
    "    # getting the first column using the inital ID, creating a dataframe and using the similarity order for all next retrievals \n",
    "    ssm  = retrieve_k_sim_byID(concept, casebase, initital_caseID, '-1') \n",
    "    ssm_ids = ssm.index[1:] # setting the order for the columns\n",
    "    ssm = ssm.rename(columns={'similarCases': initital_caseID})\n",
    "\n",
    "    # running through all cases and adding them to the dataframe\n",
    "    for caseID in ssm_ids:\n",
    "        curr_ret = retrieve_k_sim_byID(concept, casebase, caseID, k)\n",
    "        curr_ret = curr_ret.rename(columns={'similarCases': caseID})\n",
    "        ssm = pd.concat([ssm, curr_ret], axis=1, join='inner')\n",
    "\n",
    "    return ssm\n",
    "\n",
    "def compare_cases(query_case, caseList):\n",
    "    compared = retrieve_k_sim_byID_content('Car', 'CaseBase0', 'CarFunc', query_case, '-1')\n",
    "    query = compared[compared['caseID'].isin([query_case])]\n",
    "    query = query.T\n",
    "    query = query.rename(columns={query.columns[0]: 'query'})\n",
    "    compared = compared[compared['caseID'].isin(caseList)]\n",
    "    compared = compared.sort_values(by='similarity', ascending=False)\n",
    "    compared = compared.T\n",
    "    compared = pd.concat([query, compared], axis=1, join='inner')\n",
    "    return compared"
   ]
  },
  {
   "cell_type": "markdown",
   "metadata": {},
   "source": [
    "# Visualization\n",
    "- Heatmap for the results"
   ]
  },
  {
   "cell_type": "code",
   "execution_count": null,
   "metadata": {},
   "outputs": [],
   "source": [
    "def plot_heatmap(data , k):\n",
    "    ax = sns.heatmap(data.iloc[:k, :k], annot=True, cmap=\"YlGnBu\")"
   ]
  },
  {
   "cell_type": "markdown",
   "metadata": {},
   "source": [
    "# Examples for Creating an SSM and plotting it\n",
    "- Heatmap for the results"
   ]
  },
  {
   "cell_type": "code",
   "execution_count": 372,
   "metadata": {},
   "outputs": [],
   "source": [
    "concept = 'Car'\n",
    "casebase = 'CaseBase0'\n",
    "ssm = create_ssm(concept, casebase, -1) "
   ]
  },
  {
   "cell_type": "code",
   "execution_count": 381,
   "metadata": {},
   "outputs": [
    {
     "data": {
      "image/png": "[encoded data removed]",
      "text/plain": [
       "<Figure size 720x720 with 2 Axes>"
      ]
     },
     "metadata": {},
     "output_type": "display_data"
    }
   ],
   "source": [
    "plt.rcParams[\"figure.figsize\"] = (10, 10)\n",
    "plot_heatmap(ssm, 10)"
   ]
  },
  {
   "cell_type": "code",
   "execution_count": 451,
   "metadata": {},
   "outputs": [
    {
     "data": {
      "text/html": [
       "<div>\n",
       "<style scoped>\n",
       "    .dataframe tbody tr th:only-of-type {\n",
       "        vertical-align: middle;\n",
       "    }\n",
       "\n",
       "    .dataframe tbody tr th {\n",
       "        vertical-align: top;\n",
       "    }\n",
       "\n",
       "    .dataframe thead th {\n",
       "        text-align: right;\n",
       "    }\n",
       "</style>\n",
       "<table border=\"1\" class=\"dataframe\">\n",
       "  <thead>\n",
       "    <tr style=\"text-align: right;\">\n",
       "      <th></th>\n",
       "      <th>query</th>\n",
       "      <th>122</th>\n",
       "      <th>887</th>\n",
       "      <th>195</th>\n",
       "      <th>18</th>\n",
       "      <th>278</th>\n",
       "      <th>434</th>\n",
       "    </tr>\n",
       "  </thead>\n",
       "  <tbody>\n",
       "    <tr>\n",
       "      <th>Body</th>\n",
       "      <td>sedan</td>\n",
       "      <td>sedan</td>\n",
       "      <td>sedan</td>\n",
       "      <td>sedan</td>\n",
       "      <td>sedan</td>\n",
       "      <td>sedan</td>\n",
       "      <td>sedan</td>\n",
       "    </tr>\n",
       "    <tr>\n",
       "      <th>CCM</th>\n",
       "      <td>1900</td>\n",
       "      <td>1900</td>\n",
       "      <td>1900</td>\n",
       "      <td>1900</td>\n",
       "      <td>1900</td>\n",
       "      <td>1900</td>\n",
       "      <td>1900</td>\n",
       "    </tr>\n",
       "    <tr>\n",
       "      <th>Car Code</th>\n",
       "      <td>17</td>\n",
       "      <td>505</td>\n",
       "      <td>825</td>\n",
       "      <td>530</td>\n",
       "      <td>875</td>\n",
       "      <td>858</td>\n",
       "      <td>276</td>\n",
       "    </tr>\n",
       "    <tr>\n",
       "      <th>Color</th>\n",
       "      <td>dark_blue</td>\n",
       "      <td>dark_green</td>\n",
       "      <td>gray</td>\n",
       "      <td>yellow</td>\n",
       "      <td>light_gray</td>\n",
       "      <td>black</td>\n",
       "      <td>dark_green</td>\n",
       "    </tr>\n",
       "    <tr>\n",
       "      <th>Doors</th>\n",
       "      <td>4</td>\n",
       "      <td>4</td>\n",
       "      <td>4</td>\n",
       "      <td>4</td>\n",
       "      <td>4</td>\n",
       "      <td>4</td>\n",
       "      <td>4</td>\n",
       "    </tr>\n",
       "    <tr>\n",
       "      <th>Gas</th>\n",
       "      <td>diesel</td>\n",
       "      <td>diesel</td>\n",
       "      <td>diesel</td>\n",
       "      <td>diesel</td>\n",
       "      <td>diesel</td>\n",
       "      <td>diesel</td>\n",
       "      <td>diesel</td>\n",
       "    </tr>\n",
       "    <tr>\n",
       "      <th>Manufacturer</th>\n",
       "      <td>vw</td>\n",
       "      <td>vw</td>\n",
       "      <td>vw</td>\n",
       "      <td>vw</td>\n",
       "      <td>vw</td>\n",
       "      <td>vw</td>\n",
       "      <td>vw</td>\n",
       "    </tr>\n",
       "    <tr>\n",
       "      <th>Miles</th>\n",
       "      <td>71433</td>\n",
       "      <td>44921</td>\n",
       "      <td>43957</td>\n",
       "      <td>23213</td>\n",
       "      <td>40577</td>\n",
       "      <td>32073</td>\n",
       "      <td>27554</td>\n",
       "    </tr>\n",
       "    <tr>\n",
       "      <th>Model</th>\n",
       "      <td>passat</td>\n",
       "      <td>passat</td>\n",
       "      <td>passat</td>\n",
       "      <td>passat</td>\n",
       "      <td>passat</td>\n",
       "      <td>passat</td>\n",
       "      <td>passat</td>\n",
       "    </tr>\n",
       "    <tr>\n",
       "      <th>Power</th>\n",
       "      <td>90</td>\n",
       "      <td>110</td>\n",
       "      <td>110</td>\n",
       "      <td>90</td>\n",
       "      <td>110</td>\n",
       "      <td>110</td>\n",
       "      <td>110</td>\n",
       "    </tr>\n",
       "    <tr>\n",
       "      <th>Price</th>\n",
       "      <td>22099</td>\n",
       "      <td>28899</td>\n",
       "      <td>29099</td>\n",
       "      <td>28299</td>\n",
       "      <td>29899</td>\n",
       "      <td>30999</td>\n",
       "      <td>33399</td>\n",
       "    </tr>\n",
       "    <tr>\n",
       "      <th>Speed</th>\n",
       "      <td>183</td>\n",
       "      <td>183</td>\n",
       "      <td>183</td>\n",
       "      <td>183</td>\n",
       "      <td>183</td>\n",
       "      <td>183</td>\n",
       "      <td>183</td>\n",
       "    </tr>\n",
       "    <tr>\n",
       "      <th>Year</th>\n",
       "      <td>1995</td>\n",
       "      <td>1996</td>\n",
       "      <td>1995</td>\n",
       "      <td>1995</td>\n",
       "      <td>1996</td>\n",
       "      <td>1995</td>\n",
       "      <td>1997</td>\n",
       "    </tr>\n",
       "    <tr>\n",
       "      <th>ZIP</th>\n",
       "      <td>6</td>\n",
       "      <td>8</td>\n",
       "      <td>8</td>\n",
       "      <td>7</td>\n",
       "      <td>3</td>\n",
       "      <td>4</td>\n",
       "      <td>1</td>\n",
       "    </tr>\n",
       "    <tr>\n",
       "      <th>caseID</th>\n",
       "      <td>17_vw</td>\n",
       "      <td>505_vw</td>\n",
       "      <td>825_vw</td>\n",
       "      <td>530_vw</td>\n",
       "      <td>875_vw</td>\n",
       "      <td>858_vw</td>\n",
       "      <td>276_vw</td>\n",
       "    </tr>\n",
       "    <tr>\n",
       "      <th>similarity</th>\n",
       "      <td>1</td>\n",
       "      <td>0.536244</td>\n",
       "      <td>0.536237</td>\n",
       "      <td>0.536233</td>\n",
       "      <td>0.536212</td>\n",
       "      <td>0.53615</td>\n",
       "      <td>0.536116</td>\n",
       "    </tr>\n",
       "  </tbody>\n",
       "</table>\n",
       "</div>"
      ],
      "text/plain": [
       "                  query         122       887       195          18      278  \\\n",
       "Body              sedan       sedan     sedan     sedan       sedan    sedan   \n",
       "CCM                1900        1900      1900      1900        1900     1900   \n",
       "Car Code             17         505       825       530         875      858   \n",
       "Color         dark_blue  dark_green      gray    yellow  light_gray    black   \n",
       "Doors                 4           4         4         4           4        4   \n",
       "Gas              diesel      diesel    diesel    diesel      diesel   diesel   \n",
       "Manufacturer         vw          vw        vw        vw          vw       vw   \n",
       "Miles             71433       44921     43957     23213       40577    32073   \n",
       "Model            passat      passat    passat    passat      passat   passat   \n",
       "Power                90         110       110        90         110      110   \n",
       "Price             22099       28899     29099     28299       29899    30999   \n",
       "Speed               183         183       183       183         183      183   \n",
       "Year               1995        1996      1995      1995        1996     1995   \n",
       "ZIP                   6           8         8         7           3        4   \n",
       "caseID            17_vw      505_vw    825_vw    530_vw      875_vw   858_vw   \n",
       "similarity            1    0.536244  0.536237  0.536233    0.536212  0.53615   \n",
       "\n",
       "                     434  \n",
       "Body               sedan  \n",
       "CCM                 1900  \n",
       "Car Code             276  \n",
       "Color         dark_green  \n",
       "Doors                  4  \n",
       "Gas               diesel  \n",
       "Manufacturer          vw  \n",
       "Miles              27554  \n",
       "Model             passat  \n",
       "Power                110  \n",
       "Price              33399  \n",
       "Speed                183  \n",
       "Year                1997  \n",
       "ZIP                    1  \n",
       "caseID            276_vw  \n",
       "similarity      0.536116  "
      ]
     },
     "execution_count": 451,
     "metadata": {},
     "output_type": "execute_result"
    }
   ],
   "source": [
    "#define a list of cases    \n",
    "caseList = ['505_vw', '825_vw', '530_vw', '875_vw', '858_vw', '276_vw']\n",
    "# compare them with a query\n",
    "compare_cases('17_vw', caseList)"
   ]
  },
  {
   "cell_type": "code",
   "execution_count": null,
   "metadata": {},
   "outputs": [],
   "source": []
  }
 ],
 "metadata": {
  "kernelspec": {
   "display_name": "Python 3",
   "language": "python",
   "name": "python3"
  },
  "language_info": {
   "codemirror_mode": {
    "name": "ipython",
    "version": 3
   },
   "file_extension": ".py",
   "mimetype": "text/x-python",
   "name": "python",
   "nbconvert_exporter": "python",
   "pygments_lexer": "ipython3",
   "version": "3.6.5"
  }
 },
 "nbformat": 4,
 "nbformat_minor": 2
}
