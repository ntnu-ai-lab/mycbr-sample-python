{
 "cells": [
  {
   "cell_type": "code",
   "execution_count": 1,
   "metadata": {},
   "outputs": [],
   "source": [
    "# Render our plots inline\n",
    "%matplotlib inline\n",
    "\n",
    "from requests import get\n",
    "import requests\n",
    "import pandas as pd\n",
    "import numpy as np\n",
    "import seaborn as sns\n",
    "import matplotlib.pyplot as plt\n",
    "import datetime\n",
    "\n",
    "from pandas.io.json import json_normalize"
   ]
  },
  {
   "cell_type": "code",
   "execution_count": 2,
   "metadata": {},
   "outputs": [],
   "source": [
    "# returns the list of concepts existing in the CBR system\n",
    "def get_concepts():\n",
    "    raw = pd.DataFrame(requests.get(url + 'concepts/').json()) \n",
    "    concepts = pd.DataFrame.from_records(raw).values.tolist()\n",
    "    return concepts"
   ]
  },
  {
   "cell_type": "code",
   "execution_count": 3,
   "metadata": {},
   "outputs": [
    {
     "ename": "NameError",
     "evalue": "name 'url' is not defined",
     "output_type": "error",
     "traceback": [
      "\u001b[0;31m---------------------------------------------------------------------------\u001b[0m",
      "\u001b[0;31mNameError\u001b[0m                                 Traceback (most recent call last)",
      "\u001b[0;32m<ipython-input-3-72b97bdd8a93>\u001b[0m in \u001b[0;36m<module>\u001b[0;34m\u001b[0m\n\u001b[0;32m----> 1\u001b[0;31m \u001b[0mget_concepts\u001b[0m\u001b[0;34m(\u001b[0m\u001b[0;34m)\u001b[0m\u001b[0;34m\u001b[0m\u001b[0;34m\u001b[0m\u001b[0m\n\u001b[0m",
      "\u001b[0;32m<ipython-input-2-f42de2fc6b1f>\u001b[0m in \u001b[0;36mget_concepts\u001b[0;34m()\u001b[0m\n\u001b[1;32m      1\u001b[0m \u001b[0;31m# returns the list of concepts existing in the CBR system\u001b[0m\u001b[0;34m\u001b[0m\u001b[0;34m\u001b[0m\u001b[0;34m\u001b[0m\u001b[0m\n\u001b[1;32m      2\u001b[0m \u001b[0;32mdef\u001b[0m \u001b[0mget_concepts\u001b[0m\u001b[0;34m(\u001b[0m\u001b[0;34m)\u001b[0m\u001b[0;34m:\u001b[0m\u001b[0;34m\u001b[0m\u001b[0;34m\u001b[0m\u001b[0m\n\u001b[0;32m----> 3\u001b[0;31m     \u001b[0mraw\u001b[0m \u001b[0;34m=\u001b[0m \u001b[0mpd\u001b[0m\u001b[0;34m.\u001b[0m\u001b[0mDataFrame\u001b[0m\u001b[0;34m(\u001b[0m\u001b[0mrequests\u001b[0m\u001b[0;34m.\u001b[0m\u001b[0mget\u001b[0m\u001b[0;34m(\u001b[0m\u001b[0murl\u001b[0m \u001b[0;34m+\u001b[0m \u001b[0;34m'concepts/'\u001b[0m\u001b[0;34m)\u001b[0m\u001b[0;34m.\u001b[0m\u001b[0mjson\u001b[0m\u001b[0;34m(\u001b[0m\u001b[0;34m)\u001b[0m\u001b[0;34m)\u001b[0m\u001b[0;34m\u001b[0m\u001b[0;34m\u001b[0m\u001b[0m\n\u001b[0m\u001b[1;32m      4\u001b[0m     \u001b[0mconcepts\u001b[0m \u001b[0;34m=\u001b[0m \u001b[0mpd\u001b[0m\u001b[0;34m.\u001b[0m\u001b[0mDataFrame\u001b[0m\u001b[0;34m.\u001b[0m\u001b[0mfrom_records\u001b[0m\u001b[0;34m(\u001b[0m\u001b[0mraw\u001b[0m\u001b[0;34m)\u001b[0m\u001b[0;34m.\u001b[0m\u001b[0mvalues\u001b[0m\u001b[0;34m.\u001b[0m\u001b[0mtolist\u001b[0m\u001b[0;34m(\u001b[0m\u001b[0;34m)\u001b[0m\u001b[0;34m\u001b[0m\u001b[0;34m\u001b[0m\u001b[0m\n\u001b[1;32m      5\u001b[0m     \u001b[0;32mreturn\u001b[0m \u001b[0mconcepts\u001b[0m\u001b[0;34m\u001b[0m\u001b[0;34m\u001b[0m\u001b[0m\n",
      "\u001b[0;31mNameError\u001b[0m: name 'url' is not defined"
     ]
    }
   ],
   "source": [
    "get_concepts()"
   ]
  },
  {
   "cell_type": "code",
   "execution_count": 8,
   "metadata": {},
   "outputs": [],
   "source": [
    "def get_attributes(concept):\n",
    "    raw = pd.DataFrame(requests.get(url + 'concepts/' + concept + '/attributes').json()) \n",
    "    attributes = pd.DataFrame(raw).reset_index()\n",
    "    attributes.columns = ['name', 'type']\n",
    "    return attributes"
   ]
  },
  {
   "cell_type": "code",
   "execution_count": null,
   "metadata": {},
   "outputs": [],
   "source": [
    "get_attributes(get_concepts()[0][0]) # returns a dataframe of attribute names and their type existing in the CBR system"
   ]
  },
  {
   "cell_type": "code",
   "execution_count": 2,
   "metadata": {},
   "outputs": [],
   "source": [
    "server = 'localhost'\n",
    "\n",
    "port = '8080'\n",
    "url = 'http://' + server + ':' + port + '/'"
   ]
  },
  {
   "cell_type": "code",
   "execution_count": 3,
   "metadata": {},
   "outputs": [],
   "source": [
    "def retrieve_k_sim_byID_content(concept, casebase, amalFct, queryID, k):\n",
    "    raw = pd.DataFrame(requests.get(url + 'concepts/' + concept + '/casebases/' \n",
    "                                        + casebase + '/retrievalByIDWithContent?amalgamation%20function='+amalFct+'&caseID=' \n",
    "                                        + queryID + '&k=' + k ).json()) \n",
    "    results = raw.apply(pd.to_numeric, errors='coerce').fillna(raw).sort_values(by='similarity', ascending=False)\n",
    "    returned_df = results.apply(pd.to_numeric, errors='coerce').fillna(results)\n",
    "    return returned_df"
   ]
  },
  {
   "cell_type": "code",
   "execution_count": 4,
   "metadata": {},
   "outputs": [
    {
     "data": {
      "text/html": [
       "<div>\n",
       "<style scoped>\n",
       "    .dataframe tbody tr th:only-of-type {\n",
       "        vertical-align: middle;\n",
       "    }\n",
       "\n",
       "    .dataframe tbody tr th {\n",
       "        vertical-align: top;\n",
       "    }\n",
       "\n",
       "    .dataframe thead th {\n",
       "        text-align: right;\n",
       "    }\n",
       "</style>\n",
       "<table border=\"1\" class=\"dataframe\">\n",
       "  <thead>\n",
       "    <tr style=\"text-align: right;\">\n",
       "      <th></th>\n",
       "      <th>Body</th>\n",
       "      <th>CCM</th>\n",
       "      <th>Car Code</th>\n",
       "      <th>Color</th>\n",
       "      <th>Doors</th>\n",
       "      <th>Gas</th>\n",
       "      <th>Manufacturer</th>\n",
       "      <th>Miles</th>\n",
       "      <th>Model</th>\n",
       "      <th>Power</th>\n",
       "      <th>Price</th>\n",
       "      <th>Speed</th>\n",
       "      <th>Year</th>\n",
       "      <th>ZIP</th>\n",
       "      <th>caseID</th>\n",
       "      <th>similarity</th>\n",
       "    </tr>\n",
       "  </thead>\n",
       "  <tbody>\n",
       "    <tr>\n",
       "      <th>0</th>\n",
       "      <td>sedan</td>\n",
       "      <td>1900</td>\n",
       "      <td>17</td>\n",
       "      <td>dark_blue</td>\n",
       "      <td>4</td>\n",
       "      <td>diesel</td>\n",
       "      <td>vw</td>\n",
       "      <td>71433</td>\n",
       "      <td>passat</td>\n",
       "      <td>90</td>\n",
       "      <td>22099</td>\n",
       "      <td>183</td>\n",
       "      <td>1995</td>\n",
       "      <td>6</td>\n",
       "      <td>17_vw</td>\n",
       "      <td>1</td>\n",
       "    </tr>\n",
       "    <tr>\n",
       "      <th>1</th>\n",
       "      <td>sedan</td>\n",
       "      <td>1900</td>\n",
       "      <td>891</td>\n",
       "      <td>blue</td>\n",
       "      <td>4</td>\n",
       "      <td>diesel</td>\n",
       "      <td>vw</td>\n",
       "      <td>68993</td>\n",
       "      <td>passat</td>\n",
       "      <td>110</td>\n",
       "      <td>23599</td>\n",
       "      <td>183</td>\n",
       "      <td>1995</td>\n",
       "      <td>2</td>\n",
       "      <td>891_vw</td>\n",
       "      <td>0.658371</td>\n",
       "    </tr>\n",
       "    <tr>\n",
       "      <th>2</th>\n",
       "      <td>sedan</td>\n",
       "      <td>1900</td>\n",
       "      <td>532</td>\n",
       "      <td>dark_blue</td>\n",
       "      <td>4</td>\n",
       "      <td>diesel</td>\n",
       "      <td>vw</td>\n",
       "      <td>13701</td>\n",
       "      <td>passat</td>\n",
       "      <td>90</td>\n",
       "      <td>33199</td>\n",
       "      <td>183</td>\n",
       "      <td>1996</td>\n",
       "      <td>3</td>\n",
       "      <td>532_vw</td>\n",
       "      <td>0.658114</td>\n",
       "    </tr>\n",
       "    <tr>\n",
       "      <th>3</th>\n",
       "      <td>sedan</td>\n",
       "      <td>1900</td>\n",
       "      <td>602</td>\n",
       "      <td>blue</td>\n",
       "      <td>4</td>\n",
       "      <td>gasoline</td>\n",
       "      <td>vw</td>\n",
       "      <td>80748</td>\n",
       "      <td>passat</td>\n",
       "      <td>193</td>\n",
       "      <td>26499</td>\n",
       "      <td>183</td>\n",
       "      <td>1996</td>\n",
       "      <td>1</td>\n",
       "      <td>602_vw</td>\n",
       "      <td>0.632703</td>\n",
       "    </tr>\n",
       "    <tr>\n",
       "      <th>4</th>\n",
       "      <td>sedan</td>\n",
       "      <td>1900</td>\n",
       "      <td>467</td>\n",
       "      <td>dark_blue</td>\n",
       "      <td>4</td>\n",
       "      <td>gasoline</td>\n",
       "      <td>vw</td>\n",
       "      <td>91911</td>\n",
       "      <td>passat</td>\n",
       "      <td>100</td>\n",
       "      <td>16699</td>\n",
       "      <td>183</td>\n",
       "      <td>1995</td>\n",
       "      <td>8</td>\n",
       "      <td>467_vw</td>\n",
       "      <td>0.632574</td>\n",
       "    </tr>\n",
       "  </tbody>\n",
       "</table>\n",
       "</div>"
      ],
      "text/plain": [
       "    Body   CCM  Car Code      Color  Doors       Gas Manufacturer  Miles  \\\n",
       "0  sedan  1900        17  dark_blue      4    diesel           vw  71433   \n",
       "1  sedan  1900       891       blue      4    diesel           vw  68993   \n",
       "2  sedan  1900       532  dark_blue      4    diesel           vw  13701   \n",
       "3  sedan  1900       602       blue      4  gasoline           vw  80748   \n",
       "4  sedan  1900       467  dark_blue      4  gasoline           vw  91911   \n",
       "\n",
       "    Model  Power  Price  Speed  Year  ZIP  caseID similarity  \n",
       "0  passat     90  22099    183  1995    6   17_vw          1  \n",
       "1  passat    110  23599    183  1995    2  891_vw   0.658371  \n",
       "2  passat     90  33199    183  1996    3  532_vw   0.658114  \n",
       "3  passat    193  26499    183  1996    1  602_vw   0.632703  \n",
       "4  passat    100  16699    183  1995    8  467_vw   0.632574  "
      ]
     },
     "execution_count": 4,
     "metadata": {},
     "output_type": "execute_result"
    }
   ],
   "source": [
    "# Find most similar cases and get the full case content for them\n",
    "retrieve_k_sim_byID_content('Car', 'CaseBase0', 'CarFunc', '17_vw', '5')"
   ]
  },
  {
   "cell_type": "code",
   "execution_count": null,
   "metadata": {},
   "outputs": [],
   "source": []
  }
 ],
 "metadata": {
  "kernelspec": {
   "display_name": "Python 3",
   "language": "python",
   "name": "python3"
  },
  "language_info": {
   "codemirror_mode": {
    "name": "ipython",
    "version": 3
   },
   "file_extension": ".py",
   "mimetype": "text/x-python",
   "name": "python",
   "nbconvert_exporter": "python",
   "pygments_lexer": "ipython3",
   "version": "3.6.9"
  }
 },
 "nbformat": 4,
 "nbformat_minor": 4
}
